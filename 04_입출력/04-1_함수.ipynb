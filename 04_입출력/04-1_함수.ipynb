{
 "cells": [
  {
   "cell_type": "markdown",
   "metadata": {},
   "source": [
    "### 함수란 무엇인가? \n"
   ]
  },
  {
   "cell_type": "code",
   "execution_count": 8,
   "metadata": {},
   "outputs": [
    {
     "name": "stdout",
     "output_type": "stream",
     "text": [
      "9\n",
      "30\n"
     ]
    }
   ],
   "source": [
    "\"\"\" \n",
    "def 함수_이름(매개변수):\n",
    "    수행할_문장1\n",
    "    수행할_문장2\n",
    "\n",
    "\"\"\"\n",
    "\n",
    "def add(a, b):\n",
    "    return a + b\n",
    "\n",
    "c = add(4, 5)\n",
    "print(c)\n",
    "\n",
    "d = add(10, 20) # 30\n",
    "print(d)\n"
   ]
  },
  {
   "cell_type": "code",
   "execution_count": 9,
   "metadata": {},
   "outputs": [
    {
     "name": "stdout",
     "output_type": "stream",
     "text": [
      "7\n"
     ]
    }
   ],
   "source": [
    "# 일반적인 함수 - 입력값도 있고, 리턴값도 있는 함수\n",
    "\n",
    "\n",
    "def add(a, b):\n",
    "    result = a + b\n",
    "    return result \n",
    "\n",
    "a = add(3, 4)\n",
    "print(a)"
   ]
  },
  {
   "cell_type": "code",
   "execution_count": 2,
   "metadata": {},
   "outputs": [
    {
     "name": "stdout",
     "output_type": "stream",
     "text": [
      "hello\n"
     ]
    }
   ],
   "source": [
    "# 입력값이 없는 함수\n",
    "\n",
    "def say(): \n",
    "    return \"hello\"\n",
    "\n",
    "\n",
    "a = say()\n",
    "print(a)\n"
   ]
  },
  {
   "cell_type": "code",
   "execution_count": 4,
   "metadata": {},
   "outputs": [
    {
     "name": "stdout",
     "output_type": "stream",
     "text": [
      "10, 20의 합은 30입니다\n",
      "None\n"
     ]
    }
   ],
   "source": [
    "# 리턴 값이 없는 함수 \n",
    "\n",
    "def add(a, b): \n",
    "    print(f\"{a}, {b}의 합은 {a + b}입니다\")\n",
    "\n",
    "\n",
    "result = add(10, 20)     \n",
    "print(result)"
   ]
  },
  {
   "cell_type": "code",
   "execution_count": 16,
   "metadata": {},
   "outputs": [
    {
     "name": "stdout",
     "output_type": "stream",
     "text": [
      "Hi\n",
      "None\n"
     ]
    }
   ],
   "source": [
    "# 입력값도 리턴값도 없는 함수 \n",
    "\n",
    "def say(): \n",
    "    print(\"Hi\")\n",
    "\n",
    "\n",
    "result = say()\n",
    "print(result)\n"
   ]
  },
  {
   "cell_type": "code",
   "execution_count": 8,
   "metadata": {},
   "outputs": [
    {
     "name": "stdout",
     "output_type": "stream",
     "text": [
      "15\n"
     ]
    }
   ],
   "source": [
    "# 매개변수를 지정하여 호출하기 \n",
    "\n",
    "def sub(a, b, c, d, e, f):\n",
    "    return a + b + c\n",
    "\n",
    "# result1 = sub(10, 5)\n",
    "# print(result1)\n",
    "\n",
    "# result2 = sub(a=10, b=5)\n",
    "# print(result2)\n",
    "\n",
    "result3 = sub(a=5, c=5, b=5)\n",
    "print(result3)\n",
    "\n"
   ]
  },
  {
   "cell_type": "code",
   "execution_count": 9,
   "metadata": {},
   "outputs": [
    {
     "name": "stdout",
     "output_type": "stream",
     "text": [
      "<class 'tuple'>\n",
      "(1, 2, 3, 4)\n",
      "10\n",
      "<class 'tuple'>\n",
      "(1, 2, 3, 4, 5, 6, 7, 8, 9, 10)\n",
      "55\n"
     ]
    }
   ],
   "source": [
    "# 여러개의 입력값을 받는 함수 만들기 \n",
    "\n",
    "def add_many(*aaa):\n",
    "    result = 0 \n",
    "    print(type(aaa))\n",
    "    print(aaa)\n",
    "\n",
    "    for i in aaa:\n",
    "        result = result + i \n",
    "    return result \n",
    "\n",
    "result = add_many(1, 2, 3, 4)\n",
    "print(result)\n",
    "\n",
    "result = add_many(1,2,3,4,5,6,7,8,9, 10)\n",
    "print(result)"
   ]
  },
  {
   "cell_type": "code",
   "execution_count": 12,
   "metadata": {},
   "outputs": [
    {
     "name": "stdout",
     "output_type": "stream",
     "text": [
      "10\n",
      "24\n",
      "9\n"
     ]
    }
   ],
   "source": [
    "def add_mul(choice, *args):\n",
    "    result = 0\n",
    "    if choice == \"add\": \n",
    "        result = 0 \n",
    "        for i in args: # (1, 2, 3, 4, 5)\n",
    "            result = result + i\n",
    "    elif choice == \"mul\": \n",
    "        result = 1 \n",
    "        for i in args: # (1, 2, 3, 4)\n",
    "            result = result * i\n",
    "    else: \n",
    "        for i in args: \n",
    "            result = result + i\n",
    "    \n",
    "    return result \n",
    "\n",
    "\n",
    "result1 = add_mul(\"add\", 1, 2, 3, 4)\n",
    "print(result1)\n",
    "\n",
    "\n",
    "result2 = add_mul(\"mul\", 1, 2, 3, 4)\n",
    "print(result2)\n",
    "\n",
    "\n",
    "result3 = add_mul(1, 2, 3, 4)\n",
    "print(result3)"
   ]
  },
  {
   "cell_type": "code",
   "execution_count": 19,
   "metadata": {},
   "outputs": [
    {
     "name": "stdout",
     "output_type": "stream",
     "text": [
      "('hello', 'python', 'is', 'life')\n",
      "{'neme': '홍길동', 'age': 30}\n"
     ]
    }
   ],
   "source": [
    "# 키워드 매개변수 **kwargs\n",
    "\n",
    "def print_args(*args):\n",
    "    print(args)\n",
    "\n",
    "def print_kwargs(**kwargs):\n",
    "    print(kwargs)\n",
    "\n",
    "print_args(\"hello\", \"python\", \"is\", \"life\")\n",
    "print_kwargs(neme=\"홍길동\", age=30)\n"
   ]
  },
  {
   "cell_type": "code",
   "execution_count": 21,
   "metadata": {},
   "outputs": [
    {
     "name": "stdout",
     "output_type": "stream",
     "text": [
      "15\n",
      "50\n"
     ]
    }
   ],
   "source": [
    "# 함수의 리턴값은 언제나 하나이다. \n",
    "\n",
    "def add_and_mul(a, b):\n",
    "    return a + b, a * b\n",
    "\n",
    "result1, result2 = add_and_mul(10, 5)\n",
    "print(result1)\n",
    "print(result2)"
   ]
  },
  {
   "cell_type": "code",
   "execution_count": 23,
   "metadata": {},
   "outputs": [
    {
     "name": "stdout",
     "output_type": "stream",
     "text": [
      "6\n"
     ]
    }
   ],
   "source": [
    "def add_and_mul(a, b):\n",
    "    return a * b\n",
    "    return a + b\n",
    "\n",
    "result = add_and_mul(2, 3) \n",
    "print(result)"
   ]
  },
  {
   "cell_type": "code",
   "execution_count": 26,
   "metadata": {},
   "outputs": [],
   "source": [
    "def say_nick(nick): # nick = \"바보\"\n",
    "    \n",
    "    if nick == \"바보\":\n",
    "        return \n",
    "    print(f\"나의 별명은 {nick}입니다\")\n",
    "\n",
    "# say_nick(\"야호\")\n",
    "say_nick(\"바보\")\n"
   ]
  },
  {
   "cell_type": "code",
   "execution_count": 28,
   "metadata": {},
   "outputs": [
    {
     "name": "stdout",
     "output_type": "stream",
     "text": [
      "나의 이름은 박응용입니다\n",
      "나이는 27입니다\n",
      "여자입니다\n"
     ]
    }
   ],
   "source": [
    "# 매개변수에 초깃갓 미리 설정하기 \n",
    "def say_myself(name, age, man=True):\n",
    "    print(f\"나의 이름은 {name}입니다\")\n",
    "    print(f\"나이는 {age}입니다\")\n",
    "    if man: \n",
    "        print(\"남자입니다\")\n",
    "    else: \n",
    "        print(\"여자입니다\")\n",
    "\n",
    "\n",
    "say_myself(\"박응용\", 27, False)"
   ]
  },
  {
   "cell_type": "code",
   "execution_count": 33,
   "metadata": {},
   "outputs": [
    {
     "name": "stdout",
     "output_type": "stream",
     "text": [
      "나의 이름은 박응용입니다\n",
      "나이는 0입니다\n",
      "남자입니다\n"
     ]
    }
   ],
   "source": [
    "def say_myself(name,  age, man=True):\n",
    "    print(f\"나의 이름은 {name}입니다\")\n",
    "    print(f\"나이는 {age}입니다\")\n",
    "    if man: \n",
    "        print(\"남자입니다\")\n",
    "    else: \n",
    "        print(\"여자입니다\")\n",
    "\n",
    "say_myself(\"박응용\", 0)"
   ]
  },
  {
   "cell_type": "code",
   "execution_count": 38,
   "metadata": {},
   "outputs": [
    {
     "name": "stdout",
     "output_type": "stream",
     "text": [
      "5\n",
      "2\n"
     ]
    }
   ],
   "source": [
    "# 함수 안에서 선언한 변수의 효력범위 \n",
    "\n",
    "a = 2\n",
    "c = 5\n",
    "# a, c 는 전역변수\n",
    "\n",
    "def vartest(a): # a = 1\n",
    "    # a 는 지역변수 \n",
    "    a = a + 1 # a = 2\n",
    "    print(c)\n",
    "    \n",
    "vartest(a)  # a = 1 -> vartest(1)\n",
    "print(a) "
   ]
  },
  {
   "cell_type": "code",
   "execution_count": 40,
   "metadata": {},
   "outputs": [
    {
     "name": "stdout",
     "output_type": "stream",
     "text": [
      "2\n"
     ]
    }
   ],
   "source": [
    "a = 1\n",
    "def vartest(a): \n",
    "    a = a + 1\n",
    "    return a # return 1 \n",
    "\n",
    "a = vartest(a)\n",
    "print(a)"
   ]
  },
  {
   "cell_type": "code",
   "execution_count": 43,
   "metadata": {},
   "outputs": [
    {
     "name": "stdout",
     "output_type": "stream",
     "text": [
      "0\n"
     ]
    }
   ],
   "source": [
    "def vartest(f): \n",
    "    f = f + 1\n",
    "\n",
    "vartest(3)\n",
    "print(f)"
   ]
  },
  {
   "cell_type": "code",
   "execution_count": 44,
   "metadata": {},
   "outputs": [
    {
     "name": "stdout",
     "output_type": "stream",
     "text": [
      "2\n"
     ]
    }
   ],
   "source": [
    "# return 사용하기 \n",
    "a = 1 \n",
    "def vartest(a): \n",
    "    a = a + 1\n",
    "    return a \n",
    "\n",
    "a = vartest(a)\n",
    "print(a)"
   ]
  },
  {
   "cell_type": "code",
   "execution_count": 59,
   "metadata": {},
   "outputs": [
    {
     "name": "stdout",
     "output_type": "stream",
     "text": [
      "2\n"
     ]
    }
   ],
   "source": [
    "# global 명령어 사용하기 \n",
    "\n",
    "a = 1\n",
    "def vartest():\n",
    "\n",
    "    global a \n",
    "    a = a + 1 \n",
    "\n",
    "vartest() \n",
    "print(a)"
   ]
  },
  {
   "cell_type": "code",
   "execution_count": 62,
   "metadata": {},
   "outputs": [
    {
     "name": "stdout",
     "output_type": "stream",
     "text": [
      "7\n"
     ]
    }
   ],
   "source": [
    "# lambda 예약어 \n",
    "# 함수이름 = lambda 매개변수1, 매개변수2 ... : 수행할_문장1 \n",
    "\n",
    "add = lambda a, b: a + b\n",
    "\n",
    "# def add(a, b): \n",
    "#     return a + b\n",
    "\n",
    "result = add(3, 4)\n",
    "print(result)"
   ]
  },
  {
   "cell_type": "code",
   "execution_count": null,
   "metadata": {},
   "outputs": [],
   "source": []
  }
 ],
 "metadata": {
  "kernelspec": {
   "display_name": "Python 3",
   "language": "python",
   "name": "python3"
  },
  "language_info": {
   "codemirror_mode": {
    "name": "ipython",
    "version": 3
   },
   "file_extension": ".py",
   "mimetype": "text/x-python",
   "name": "python",
   "nbconvert_exporter": "python",
   "pygments_lexer": "ipython3",
   "version": "3.12.4"
  }
 },
 "nbformat": 4,
 "nbformat_minor": 2
}
