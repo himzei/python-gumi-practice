{
 "cells": [
  {
   "cell_type": "markdown",
   "metadata": {},
   "source": [
    "### 함수란 무엇인가? \n"
   ]
  },
  {
   "cell_type": "code",
   "execution_count": 8,
   "metadata": {},
   "outputs": [
    {
     "name": "stdout",
     "output_type": "stream",
     "text": [
      "9\n",
      "30\n"
     ]
    }
   ],
   "source": [
    "\"\"\" \n",
    "def 함수_이름(매개변수):\n",
    "    수행할_문장1\n",
    "    수행할_문장2\n",
    "\n",
    "\"\"\"\n",
    "\n",
    "def add(a, b):\n",
    "    return a + b\n",
    "\n",
    "c = add(4, 5)\n",
    "print(c)\n",
    "\n",
    "d = add(10, 20) # 30\n",
    "print(d)\n"
   ]
  },
  {
   "cell_type": "code",
   "execution_count": 9,
   "metadata": {},
   "outputs": [
    {
     "name": "stdout",
     "output_type": "stream",
     "text": [
      "7\n"
     ]
    }
   ],
   "source": [
    "# 일반적인 함수 \n",
    "\n",
    "def add(a, b):\n",
    "    result = a + b\n",
    "    return result \n",
    "\n",
    "a = add(3, 4)\n",
    "print(a)"
   ]
  },
  {
   "cell_type": "code",
   "execution_count": 11,
   "metadata": {},
   "outputs": [
    {
     "name": "stdout",
     "output_type": "stream",
     "text": [
      "HI\n"
     ]
    }
   ],
   "source": [
    "# 입력값이 없는 함수\n",
    "\n",
    "def say(): \n",
    "    return \"HI\"\n",
    "\n",
    "\n",
    "a = say()\n",
    "print(a)\n"
   ]
  },
  {
   "cell_type": "code",
   "execution_count": 14,
   "metadata": {},
   "outputs": [
    {
     "name": "stdout",
     "output_type": "stream",
     "text": [
      "10, 20의 합은 30입니다\n",
      "None\n"
     ]
    }
   ],
   "source": [
    "# 리턴 값이 없는 함수 \n",
    "\n",
    "def add(a, b): \n",
    "    print(f\"{a}, {b}의 합은 {a + b}입니다\")\n",
    "\n",
    "\n",
    "result = add(10, 20)     \n",
    "print(result)"
   ]
  },
  {
   "cell_type": "code",
   "execution_count": 16,
   "metadata": {},
   "outputs": [
    {
     "name": "stdout",
     "output_type": "stream",
     "text": [
      "Hi\n",
      "None\n"
     ]
    }
   ],
   "source": [
    "# 입력값도 리턴값도 없는 함수 \n",
    "\n",
    "def say(): \n",
    "    print(\"Hi\")\n",
    "\n",
    "\n",
    "result = say()\n",
    "print(result)\n"
   ]
  },
  {
   "cell_type": "code",
   "execution_count": 21,
   "metadata": {},
   "outputs": [
    {
     "name": "stdout",
     "output_type": "stream",
     "text": [
      "5\n",
      "4\n",
      "-2\n"
     ]
    }
   ],
   "source": [
    "# 매개변수를 지정하여 호출하기 \n",
    "\n",
    "def sub(a, b):\n",
    "    return a - b\n",
    "\n",
    "result1 = sub(10, 5)\n",
    "print(result1)\n",
    "\n",
    "result2 = sub(a=7, b=3)\n",
    "print(result2)\n",
    "\n",
    "result3 = sub(b=5, a=3)\n",
    "print(result3)\n",
    "\n"
   ]
  },
  {
   "cell_type": "code",
   "execution_count": 26,
   "metadata": {},
   "outputs": [
    {
     "name": "stdout",
     "output_type": "stream",
     "text": [
      "<class 'tuple'>\n",
      "(1, 2, 3, 4)\n",
      "10\n",
      "<class 'tuple'>\n",
      "(1, 2, 3, 4, 5, 6, 7, 8, 9, 10)\n",
      "55\n"
     ]
    }
   ],
   "source": [
    "# 여러개의 입력값을 받는 함수 만들기 \n",
    "\n",
    "def add_many(*args):\n",
    "    result = 0 \n",
    "    print(type(args))\n",
    "    print(args)\n",
    "\n",
    "    for i in args:\n",
    "        result = result + i \n",
    "    return result \n",
    "\n",
    "result = add_many(1, 2, 3, 4)\n",
    "print(result)\n",
    "\n",
    "result = add_many(1,2,3,4,5,6,7,8,9, 10)\n",
    "print(result)"
   ]
  },
  {
   "cell_type": "code",
   "execution_count": 29,
   "metadata": {},
   "outputs": [
    {
     "name": "stdout",
     "output_type": "stream",
     "text": [
      "10\n",
      "24\n"
     ]
    }
   ],
   "source": [
    "def add_mul(choice, *args):\n",
    "    if choice == \"add\": \n",
    "        result = 0 \n",
    "        for i in args: # (1, 2, 3, 4, 5)\n",
    "            result = result + i\n",
    "    elif choice == \"mul\": \n",
    "        result = 1 \n",
    "        for i in args: # (1, 2, 3, 4)\n",
    "            result = result * i\n",
    "    \n",
    "    return result \n",
    "\n",
    "\n",
    "result1 = add_mul(\"add\", 1, 2, 3, 4)\n",
    "print(result1)\n",
    "\n",
    "\n",
    "result2 = add_mul(\"mul\", 1, 2, 3, 4)\n",
    "print(result2)"
   ]
  },
  {
   "cell_type": "code",
   "execution_count": null,
   "metadata": {},
   "outputs": [],
   "source": []
  }
 ],
 "metadata": {
  "kernelspec": {
   "display_name": "Python 3",
   "language": "python",
   "name": "python3"
  },
  "language_info": {
   "codemirror_mode": {
    "name": "ipython",
    "version": 3
   },
   "file_extension": ".py",
   "mimetype": "text/x-python",
   "name": "python",
   "nbconvert_exporter": "python",
   "pygments_lexer": "ipython3",
   "version": "3.12.4"
  }
 },
 "nbformat": 4,
 "nbformat_minor": 2
}
