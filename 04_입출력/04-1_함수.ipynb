{
 "cells": [
  {
   "cell_type": "markdown",
   "metadata": {},
   "source": [
    "### 함수란 무엇인가? \n"
   ]
  },
  {
   "cell_type": "code",
   "execution_count": 8,
   "metadata": {},
   "outputs": [
    {
     "name": "stdout",
     "output_type": "stream",
     "text": [
      "9\n",
      "30\n"
     ]
    }
   ],
   "source": [
    "\"\"\" \n",
    "def 함수_이름(매개변수):\n",
    "    수행할_문장1\n",
    "    수행할_문장2\n",
    "\n",
    "\"\"\"\n",
    "\n",
    "def add(a, b):\n",
    "    return a + b\n",
    "\n",
    "c = add(4, 5)\n",
    "print(c)\n",
    "\n",
    "d = add(10, 20) # 30\n",
    "print(d)\n"
   ]
  },
  {
   "cell_type": "code",
   "execution_count": 9,
   "metadata": {},
   "outputs": [
    {
     "name": "stdout",
     "output_type": "stream",
     "text": [
      "7\n"
     ]
    }
   ],
   "source": [
    "# 일반적인 함수 - 입력값도 있고, 리턴값도 있는 함수\n",
    "\n",
    "\n",
    "def add(a, b):\n",
    "    result = a + b\n",
    "    return result \n",
    "\n",
    "a = add(3, 4)\n",
    "print(a)"
   ]
  },
  {
   "cell_type": "code",
   "execution_count": 2,
   "metadata": {},
   "outputs": [
    {
     "name": "stdout",
     "output_type": "stream",
     "text": [
      "hello\n"
     ]
    }
   ],
   "source": [
    "# 입력값이 없는 함수\n",
    "\n",
    "def say(): \n",
    "    return \"hello\"\n",
    "\n",
    "\n",
    "a = say()\n",
    "print(a)\n"
   ]
  },
  {
   "cell_type": "code",
   "execution_count": 4,
   "metadata": {},
   "outputs": [
    {
     "name": "stdout",
     "output_type": "stream",
     "text": [
      "10, 20의 합은 30입니다\n",
      "None\n"
     ]
    }
   ],
   "source": [
    "# 리턴 값이 없는 함수 \n",
    "\n",
    "def add(a, b): \n",
    "    print(f\"{a}, {b}의 합은 {a + b}입니다\")\n",
    "\n",
    "\n",
    "result = add(10, 20)     \n",
    "print(result)"
   ]
  },
  {
   "cell_type": "code",
   "execution_count": 16,
   "metadata": {},
   "outputs": [
    {
     "name": "stdout",
     "output_type": "stream",
     "text": [
      "Hi\n",
      "None\n"
     ]
    }
   ],
   "source": [
    "# 입력값도 리턴값도 없는 함수 \n",
    "\n",
    "def say(): \n",
    "    print(\"Hi\")\n",
    "\n",
    "\n",
    "result = say()\n",
    "print(result)\n"
   ]
  },
  {
   "cell_type": "code",
   "execution_count": 8,
   "metadata": {},
   "outputs": [
    {
     "name": "stdout",
     "output_type": "stream",
     "text": [
      "15\n"
     ]
    }
   ],
   "source": [
    "# 매개변수를 지정하여 호출하기 \n",
    "\n",
    "def sub(a, b, c, d, e, f):\n",
    "    return a + b + c\n",
    "\n",
    "# result1 = sub(10, 5)\n",
    "# print(result1)\n",
    "\n",
    "# result2 = sub(a=10, b=5)\n",
    "# print(result2)\n",
    "\n",
    "result3 = sub(a=5, c=5, b=5)\n",
    "print(result3)\n",
    "\n"
   ]
  },
  {
   "cell_type": "code",
   "execution_count": 9,
   "metadata": {},
   "outputs": [
    {
     "name": "stdout",
     "output_type": "stream",
     "text": [
      "<class 'tuple'>\n",
      "(1, 2, 3, 4)\n",
      "10\n",
      "<class 'tuple'>\n",
      "(1, 2, 3, 4, 5, 6, 7, 8, 9, 10)\n",
      "55\n"
     ]
    }
   ],
   "source": [
    "# 여러개의 입력값을 받는 함수 만들기 \n",
    "\n",
    "def add_many(*aaa):\n",
    "    result = 0 \n",
    "    print(type(aaa))\n",
    "    print(aaa)\n",
    "\n",
    "    for i in aaa:\n",
    "        result = result + i \n",
    "    return result \n",
    "\n",
    "result = add_many(1, 2, 3, 4)\n",
    "print(result)\n",
    "\n",
    "result = add_many(1,2,3,4,5,6,7,8,9, 10)\n",
    "print(result)"
   ]
  },
  {
   "cell_type": "code",
   "execution_count": 12,
   "metadata": {},
   "outputs": [
    {
     "name": "stdout",
     "output_type": "stream",
     "text": [
      "10\n",
      "24\n",
      "9\n"
     ]
    }
   ],
   "source": [
    "def add_mul(choice, *args):\n",
    "    result = 0\n",
    "    if choice == \"add\": \n",
    "        result = 0 \n",
    "        for i in args: # (1, 2, 3, 4, 5)\n",
    "            result = result + i\n",
    "    elif choice == \"mul\": \n",
    "        result = 1 \n",
    "        for i in args: # (1, 2, 3, 4)\n",
    "            result = result * i\n",
    "    else: \n",
    "        for i in args: \n",
    "            result = result + i\n",
    "    \n",
    "    return result \n",
    "\n",
    "\n",
    "result1 = add_mul(\"add\", 1, 2, 3, 4)\n",
    "print(result1)\n",
    "\n",
    "\n",
    "result2 = add_mul(\"mul\", 1, 2, 3, 4)\n",
    "print(result2)\n",
    "\n",
    "\n",
    "result3 = add_mul(1, 2, 3, 4)\n",
    "print(result3)"
   ]
  },
  {
   "cell_type": "code",
   "execution_count": 19,
   "metadata": {},
   "outputs": [
    {
     "name": "stdout",
     "output_type": "stream",
     "text": [
      "('hello', 'python', 'is', 'life')\n",
      "{'neme': '홍길동', 'age': 30}\n"
     ]
    }
   ],
   "source": [
    "# 키워드 매개변수 **kwargs\n",
    "\n",
    "def print_args(*args):\n",
    "    print(args)\n",
    "\n",
    "def print_kwargs(**kwargs):\n",
    "    print(kwargs)\n",
    "\n",
    "print_args(\"hello\", \"python\", \"is\", \"life\")\n",
    "print_kwargs(neme=\"홍길동\", age=30)\n"
   ]
  },
  {
   "cell_type": "code",
   "execution_count": 21,
   "metadata": {},
   "outputs": [
    {
     "name": "stdout",
     "output_type": "stream",
     "text": [
      "15\n",
      "50\n"
     ]
    }
   ],
   "source": [
    "# 함수의 리턴값은 언제나 하나이다. \n",
    "\n",
    "def add_and_mul(a, b):\n",
    "    return a + b, a * b\n",
    "\n",
    "result1, result2 = add_and_mul(10, 5)\n",
    "print(result1)\n",
    "print(result2)"
   ]
  },
  {
   "cell_type": "code",
   "execution_count": 23,
   "metadata": {},
   "outputs": [
    {
     "name": "stdout",
     "output_type": "stream",
     "text": [
      "6\n"
     ]
    }
   ],
   "source": [
    "def add_and_mul(a, b):\n",
    "    return a * b\n",
    "    return a + b\n",
    "\n",
    "result = add_and_mul(2, 3) \n",
    "print(result)"
   ]
  },
  {
   "cell_type": "code",
   "execution_count": 26,
   "metadata": {},
   "outputs": [],
   "source": [
    "def say_nick(nick): # nick = \"바보\"\n",
    "    \n",
    "    if nick == \"바보\":\n",
    "        return \n",
    "    print(f\"나의 별명은 {nick}입니다\")\n",
    "\n",
    "# say_nick(\"야호\")\n",
    "say_nick(\"바보\")\n"
   ]
  },
  {
   "cell_type": "code",
   "execution_count": null,
   "metadata": {},
   "outputs": [],
   "source": []
  }
 ],
 "metadata": {
  "kernelspec": {
   "display_name": "Python 3",
   "language": "python",
   "name": "python3"
  },
  "language_info": {
   "codemirror_mode": {
    "name": "ipython",
    "version": 3
   },
   "file_extension": ".py",
   "mimetype": "text/x-python",
   "name": "python",
   "nbconvert_exporter": "python",
   "pygments_lexer": "ipython3",
   "version": "3.12.4"
  }
 },
 "nbformat": 4,
 "nbformat_minor": 2
}
