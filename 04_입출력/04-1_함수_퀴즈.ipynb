{
 "cells": [
  {
   "cell_type": "markdown",
   "metadata": {},
   "source": [
    "퀴즈 1: 덧셈 함수 만들기\n",
    "문제: 두 개의 숫자를 입력받아 그 합을 반환하는 함수를 작성하세요.\n",
    "* 함수이름은 add_number"
   ]
  },
  {
   "cell_type": "code",
   "execution_count": 2,
   "metadata": {},
   "outputs": [
    {
     "name": "stdout",
     "output_type": "stream",
     "text": [
      "30\n"
     ]
    }
   ],
   "source": [
    "def add_number(a, b): \n",
    "    return a + b \n",
    "\n",
    "result = add_number(10, 20)\n",
    "print(result)"
   ]
  },
  {
   "cell_type": "markdown",
   "metadata": {},
   "source": [
    "퀴즈 2: 짝수 확인 함수 만들기\n",
    "문제: 주어진 숫자가 짝수인지 홀수인지 판별하는 함수를 작성하세요.\n",
    "\n"
   ]
  },
  {
   "cell_type": "code",
   "execution_count": 4,
   "metadata": {},
   "outputs": [
    {
     "name": "stdout",
     "output_type": "stream",
     "text": [
      "홀수\n",
      "짝수\n"
     ]
    }
   ],
   "source": [
    "def is_even(num): \n",
    "    if num % 2 == 0: \n",
    "        return \"짝수\"\n",
    "    else: \n",
    "        return \"홀수\"\n",
    "    \n",
    "result = is_even(11)\n",
    "print(result)\n",
    "result = is_even(100)\n",
    "print(result)"
   ]
  },
  {
   "cell_type": "markdown",
   "metadata": {},
   "source": [
    "퀴즈 3: 리스트에서 최대값 찾기\n",
    "문제: 주어진 리스트에서 최대값을 찾는 함수를 작성하세요.\n",
    "* max() 함수를 사용하지 않고 직접 구현해보세요.\n"
   ]
  },
  {
   "cell_type": "code",
   "execution_count": 8,
   "metadata": {},
   "outputs": [
    {
     "data": {
      "text/plain": [
       "70"
      ]
     },
     "execution_count": 8,
     "metadata": {},
     "output_type": "execute_result"
    }
   ],
   "source": [
    "def search_max(list_num): \n",
    "    max_value = list_num[0] # 1\n",
    "\n",
    "    for num in list_num: \n",
    "        if num > max_value: \n",
    "            max_value = num \n",
    "    return max_value\n",
    "\n",
    "\n",
    "\n",
    "# result = search_max([10, 20, 70, 30, 15])\n",
    "# print(result)\n",
    "\n",
    "max([10, 20, 70, 30, 15])"
   ]
  },
  {
   "cell_type": "markdown",
   "metadata": {},
   "source": [
    "퀴즈 4: 구구단 출력하기\n",
    "문제: 주어진 숫자에 대해 구구단을 출력하는 함수를 작성하세요."
   ]
  },
  {
   "cell_type": "code",
   "execution_count": 12,
   "metadata": {},
   "outputs": [
    {
     "name": "stdout",
     "output_type": "stream",
     "text": [
      "5 x 1 = 5\n",
      "5 x 2 = 10\n",
      "5 x 3 = 15\n",
      "5 x 4 = 20\n",
      "5 x 5 = 25\n",
      "5 x 6 = 30\n",
      "5 x 7 = 35\n",
      "5 x 8 = 40\n",
      "5 x 9 = 45\n"
     ]
    }
   ],
   "source": [
    "def gugudan(dan):\n",
    "    for i in range(1, 10):\n",
    "        print(f\"{dan} x {i} = {dan * i}\")\n",
    "    \n",
    "\n",
    "gugudan(5)\n"
   ]
  },
  {
   "cell_type": "markdown",
   "metadata": {},
   "source": [
    "퀴즈 5. 날짜 2024-08-21 10:00 를 24년 8월 21일로 바꾸는 함수를 만들어 주세요 "
   ]
  },
  {
   "cell_type": "code",
   "execution_count": 22,
   "metadata": {},
   "outputs": [
    {
     "name": "stdout",
     "output_type": "stream",
     "text": [
      "24년 08월 21일\n"
     ]
    }
   ],
   "source": [
    "# a = \"2024-08-21 10:00\"\n",
    "# a = a.split(\"-\")\n",
    "# print(a[0][2:4])\n",
    "# print(a[1])\n",
    "# print(a[2][0:2])\n",
    "\n",
    "def date_format(input_date):\n",
    "    input_date = input_date.split(\"-\")\n",
    "    year = input_date[0][2:4]\n",
    "    month = input_date[1]\n",
    "    day = input_date[2][0:2]\n",
    "    return f\"{year}년 {month}월 {day}일\"\n",
    "\n",
    "\n",
    "result = date_format(\"2024-08-21 10:00\")\n",
    "print(result)"
   ]
  },
  {
   "cell_type": "markdown",
   "metadata": {},
   "source": [
    "퀴즈 6: 특정 단어 세기\n",
    "문제: 주어진 문장에서 특정 단어가 몇 번 나타나는지 세는 함수를 작성하세요.\n",
    "* 함수이름은 count_word\n",
    "* 함수는 두 개의 매개변수 sentence와 word를 받아야 합니다.\n",
    "\n"
   ]
  },
  {
   "cell_type": "code",
   "execution_count": 27,
   "metadata": {},
   "outputs": [
    {
     "name": "stdout",
     "output_type": "stream",
     "text": [
      "주어진 문장에서 하이브리드 단어는 1개 포함되어 있습니다\n"
     ]
    }
   ],
   "source": [
    "def count_word(sentence, word): \n",
    "    num = sentence.count(word)\n",
    "    return f'주어진 문장에서 {word} 단어는 {num}개 포함되어 있습니다'\n",
    "\n",
    "\n",
    "sentence = \"플러그인 하이브리드까지 엔진이 직접 동력에 개입한다. 한편 EREV 부터는 배터리와 전기모터만 주행에 개입한다. FCEV의 경우 발전 역할을 엔진이 아닌 수소연료전지가 담당한다. 형태는 완전히 다르지만, 발전-동력 구조만 놓고보면 EREV와 비슷한 방식이기도 하다.\"\n",
    "word = \"하이브리드\"\n",
    "\n",
    "result = count_word(sentence, word)\n",
    "print(result)\n"
   ]
  },
  {
   "cell_type": "code",
   "execution_count": null,
   "metadata": {},
   "outputs": [],
   "source": []
  }
 ],
 "metadata": {
  "kernelspec": {
   "display_name": "Python 3",
   "language": "python",
   "name": "python3"
  },
  "language_info": {
   "codemirror_mode": {
    "name": "ipython",
    "version": 3
   },
   "file_extension": ".py",
   "mimetype": "text/x-python",
   "name": "python",
   "nbconvert_exporter": "python",
   "pygments_lexer": "ipython3",
   "version": "3.12.4"
  }
 },
 "nbformat": 4,
 "nbformat_minor": 2
}
