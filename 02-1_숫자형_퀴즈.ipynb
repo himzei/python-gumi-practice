{
 "cells": [
  {
   "cell_type": "markdown",
   "metadata": {},
   "source": []
  },
  {
   "cell_type": "markdown",
   "metadata": {
    "vscode": {
     "languageId": "plaintext"
    }
   },
   "source": [
    "## 연습문제(정수형)"
   ]
  },
  {
   "cell_type": "markdown",
   "metadata": {},
   "source": [
    "> 문제1. 3.1415의 소수점 첫 번째 자리까지만 출력하시오"
   ]
  },
  {
   "cell_type": "code",
   "execution_count": 5,
   "metadata": {},
   "outputs": [
    {
     "name": "stdout",
     "output_type": "stream",
     "text": [
      "3.1\n",
      "3.1\n"
     ]
    }
   ],
   "source": []
  },
  {
   "cell_type": "markdown",
   "metadata": {},
   "source": [
    "> 문제2. 아래에 나온 변수를 활용하여 문자열은 정수로 변환해라 \n",
    "* a = \"1234\" "
   ]
  },
  {
   "cell_type": "markdown",
   "metadata": {},
   "source": [
    "> 문제3. a = 2, b = 4 를 활용하여 더하기, 빼기, 나누기, 곱하기, 몫만, 나머지만을 구해라 "
   ]
  },
  {
   "cell_type": "markdown",
   "metadata": {},
   "source": [
    "> 문제4. 밑이 6이고, 지수가 2일 때 거듭제곱을 구해라\n"
   ]
  },
  {
   "cell_type": "markdown",
   "metadata": {},
   "source": [
    "> 문제5. 사용자로 부터 입력받은 2개의 수를 더하기를 해주는 프로그램을 작성하시오"
   ]
  },
  {
   "cell_type": "markdown",
   "metadata": {},
   "source": [
    "> 문제6. 두 개의 숫자를 입력받은 후 두 개의 숫자를 더한 값, 곱한 값, 나눈 못, 나머지 값을 각각 다음과 같이 출력하는 프로그램을 작성하시오 \n",
    "* 5 + 4 = 9 \n",
    "* 5 * 4 = 20 \n",
    "* 5 / 4 = 1.25\n",
    "* 5 // 4 = 1 \n",
    "* 5 % 4 = 1"
   ]
  },
  {
   "cell_type": "markdown",
   "metadata": {},
   "source": []
  }
 ],
 "metadata": {
  "kernelspec": {
   "display_name": "Python 3",
   "language": "python",
   "name": "python3"
  },
  "language_info": {
   "codemirror_mode": {
    "name": "ipython",
    "version": 3
   },
   "file_extension": ".py",
   "mimetype": "text/x-python",
   "name": "python",
   "nbconvert_exporter": "python",
   "pygments_lexer": "ipython3",
   "version": "3.12.4"
  }
 },
 "nbformat": 4,
 "nbformat_minor": 2
}
