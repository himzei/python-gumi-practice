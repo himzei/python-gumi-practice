{
 "cells": [
  {
   "cell_type": "markdown",
   "metadata": {},
   "source": [
    "### 딕셔너리는 어떻게 만들까? \n",
    "> {Key1: Value1, Key2: Value2, Key3: Value3 ...}"
   ]
  },
  {
   "cell_type": "code",
   "execution_count": 3,
   "metadata": {},
   "outputs": [
    {
     "name": "stdout",
     "output_type": "stream",
     "text": [
      "{'name': 'pey', 'phone': '010-9999-1234', 'birth': '1110'}\n",
      "<class 'dict'>\n"
     ]
    }
   ],
   "source": [
    "dic = {\"name\":\"pey\", \"phone\":\"010-9999-1234\", \"birth\":\"1110\"}\n",
    "len(dic)\n",
    "print(dic)\n",
    "print(type(dic))"
   ]
  },
  {
   "cell_type": "code",
   "execution_count": 13,
   "metadata": {},
   "outputs": [
    {
     "name": "stdout",
     "output_type": "stream",
     "text": [
      "{1: 'hi'}\n",
      "{'1': 'hi'}\n",
      "{'age': 30}\n",
      "{'a': [1, 2, 3]}\n",
      "{'b': (1, 2, 3)}\n",
      "['a', 'b', 'c', {'name': '홍길동'}]\n",
      "[{1: 'hi'}, {'1': 'hi'}, {'age': 30}, {'age': 30}]\n",
      "[{1: 'hi'}, {'1': 'hi'}, {'age': 30}, {'age': 30}]\n"
     ]
    }
   ],
   "source": [
    "a = {1: \"hi\"}\n",
    "b = {\"1\": \"hi\"}\n",
    "c = {\"age\": 30}\n",
    "d = {\"a\": [1, 2, 3]}\n",
    "e = {\"b\": (1, 2, 3)}\n",
    "f = [\"a\", \"b\", \"c\", {\"name\": \"홍길동\"}]\n",
    "g = [a, b, c, {\"age\": 30}]\n",
    "h = [{1: \"hi\"}, {\"1\": \"hi\"}, {\"age\": 30}, {\"age\": 30}]\n",
    "\n",
    "print(a)\n",
    "print(b)\n",
    "print(c)\n",
    "print(d)\n",
    "print(e)\n",
    "print(f)\n",
    "print(g)\n",
    "print(h)"
   ]
  },
  {
   "cell_type": "markdown",
   "metadata": {},
   "source": [
    "### 딕셔너리 쌍 추가, 삭제하기 "
   ]
  },
  {
   "cell_type": "code",
   "execution_count": 14,
   "metadata": {},
   "outputs": [
    {
     "name": "stdout",
     "output_type": "stream",
     "text": [
      "{1: 'a', 2: 'b'}\n"
     ]
    }
   ],
   "source": [
    "# 딕셔너리 쌍 추가하기 \n",
    "\n",
    "a = {1: \"a\"}\n",
    "a[2] = \"b\"\n",
    "\n",
    "print(a)\n"
   ]
  },
  {
   "cell_type": "code",
   "execution_count": 15,
   "metadata": {},
   "outputs": [
    {
     "name": "stdout",
     "output_type": "stream",
     "text": [
      "{1: 'a', 2: 'b'}\n",
      "{1: 'a', 2: 'b', 'name': '홍길동'}\n"
     ]
    }
   ],
   "source": [
    "print(a)\n",
    "\n",
    "a[\"name\"] = \"홍길동\"\n",
    "print(a)"
   ]
  },
  {
   "cell_type": "code",
   "execution_count": 16,
   "metadata": {},
   "outputs": [
    {
     "name": "stdout",
     "output_type": "stream",
     "text": [
      "{1: 'a', 2: 'b', 'name': '홍길동'}\n",
      "{1: 'a', 2: 'b', 'name': '홍길동', 10: [1, 2, 3, 4]}\n"
     ]
    }
   ],
   "source": [
    "print(a) \n",
    "\n",
    "a[10] = [1, 2, 3, 4]\n",
    "print(a)"
   ]
  },
  {
   "cell_type": "code",
   "execution_count": 18,
   "metadata": {},
   "outputs": [
    {
     "name": "stdout",
     "output_type": "stream",
     "text": [
      "10\n",
      "99\n"
     ]
    }
   ],
   "source": [
    "# key를 이용해서 value 값 얻기\n",
    "grade = {'pey': 10, 'julliet': 99}\n",
    "\n",
    "print(grade['pey'])\n",
    "print(grade['julliet'])"
   ]
  },
  {
   "cell_type": "code",
   "execution_count": 20,
   "metadata": {},
   "outputs": [
    {
     "name": "stdout",
     "output_type": "stream",
     "text": [
      "{1: 'b'}\n",
      "1\n"
     ]
    }
   ],
   "source": [
    "a = {1: \"a\", 1:\"b\"}\n",
    "print(a)\n",
    "print(len(a))"
   ]
  },
  {
   "cell_type": "code",
   "execution_count": 21,
   "metadata": {},
   "outputs": [
    {
     "ename": "TypeError",
     "evalue": "unhashable type: 'list'",
     "output_type": "error",
     "traceback": [
      "\u001b[1;31m---------------------------------------------------------------------------\u001b[0m",
      "\u001b[1;31mTypeError\u001b[0m                                 Traceback (most recent call last)",
      "Cell \u001b[1;32mIn[21], line 1\u001b[0m\n\u001b[1;32m----> 1\u001b[0m a \u001b[38;5;241m=\u001b[39m {[\u001b[38;5;241m1\u001b[39m, \u001b[38;5;241m2\u001b[39m] : \u001b[38;5;124m\"\u001b[39m\u001b[38;5;124mhi\u001b[39m\u001b[38;5;124m\"\u001b[39m}\n\u001b[0;32m      2\u001b[0m \u001b[38;5;28mprint\u001b[39m(a)\n",
      "\u001b[1;31mTypeError\u001b[0m: unhashable type: 'list'"
     ]
    }
   ],
   "source": [
    "a = {[1, 2] : \"hi\"}\n",
    "print(a)"
   ]
  },
  {
   "cell_type": "markdown",
   "metadata": {},
   "source": [
    "### 딕셔너리 관련함수 "
   ]
  },
  {
   "cell_type": "code",
   "execution_count": 26,
   "metadata": {},
   "outputs": [
    {
     "name": "stdout",
     "output_type": "stream",
     "text": [
      "dict_keys(['name', 'phone', 'birth'])\n",
      "['name', 'phone', 'birth']\n",
      "<class 'dict_keys'>\n"
     ]
    }
   ],
   "source": [
    "# key 리스트 만들기 - keys()\n",
    "a = {\"name\": \"pey\", \"phone\": \"010-1234-1234\", \"birth\": \"1118\"}\n",
    "print(a.keys())\n",
    "print(list(a.keys()))\n",
    "print(type(a.keys()))"
   ]
  },
  {
   "cell_type": "code",
   "execution_count": 27,
   "metadata": {},
   "outputs": [
    {
     "name": "stdout",
     "output_type": "stream",
     "text": [
      "name\n",
      "phone\n",
      "birth\n"
     ]
    }
   ],
   "source": [
    "for i in a.keys():\n",
    "    print(i)"
   ]
  },
  {
   "cell_type": "code",
   "execution_count": 29,
   "metadata": {},
   "outputs": [
    {
     "data": {
      "text/plain": [
       "dict_values(['pey', '010-1234-1234', '1118'])"
      ]
     },
     "execution_count": 29,
     "metadata": {},
     "output_type": "execute_result"
    }
   ],
   "source": [
    "# value 리스트 만들기 - values\n",
    "a = {\"name\": \"pey\", \"phone\": \"010-1234-1234\", \"birth\": \"1118\"}\n",
    "a.values()"
   ]
  },
  {
   "cell_type": "code",
   "execution_count": 33,
   "metadata": {},
   "outputs": [
    {
     "name": "stdout",
     "output_type": "stream",
     "text": [
      "pey\n",
      "010-1234-1234\n",
      "1118\n"
     ]
    }
   ],
   "source": [
    "for value in a.values():    \n",
    "    print(value)"
   ]
  },
  {
   "cell_type": "code",
   "execution_count": 34,
   "metadata": {},
   "outputs": [
    {
     "name": "stdout",
     "output_type": "stream",
     "text": [
      "1\n",
      "2\n",
      "3\n",
      "4\n",
      "5\n"
     ]
    }
   ],
   "source": [
    "for num in [1, 2, 3, 4, 5]:\n",
    "    print(num)"
   ]
  },
  {
   "cell_type": "code",
   "execution_count": 36,
   "metadata": {},
   "outputs": [
    {
     "name": "stdout",
     "output_type": "stream",
     "text": [
      "dict_items([('name', 'pey'), ('phone', '010-1234-1234'), ('birth', '1118')])\n",
      "[('name', 'pey'), ('phone', '010-1234-1234'), ('birth', '1118')]\n"
     ]
    }
   ],
   "source": [
    "# key, value 쌍 얻기 - items\n",
    "a = {\"name\": \"pey\", \"phone\": \"010-1234-1234\", \"birth\": \"1118\"}\n",
    "print(a.items())\n",
    "print(list(a.items()))"
   ]
  },
  {
   "cell_type": "code",
   "execution_count": 37,
   "metadata": {},
   "outputs": [
    {
     "name": "stdout",
     "output_type": "stream",
     "text": [
      "('name', 'pey')\n",
      "('phone', '010-1234-1234')\n",
      "('birth', '1118')\n"
     ]
    }
   ],
   "source": [
    "for item in a.items():\n",
    "    print(item)"
   ]
  },
  {
   "cell_type": "code",
   "execution_count": 38,
   "metadata": {},
   "outputs": [
    {
     "name": "stdout",
     "output_type": "stream",
     "text": [
      "{}\n"
     ]
    }
   ],
   "source": [
    "# key, value 쌍 모두 지우기 - clear()\n",
    "\n",
    "a = {\"name\": \"pey\", \"phone\": \"010-1234-1234\", \"birth\": \"1118\"}\n",
    "a.clear()\n",
    "\n",
    "print(a)"
   ]
  },
  {
   "cell_type": "code",
   "execution_count": 48,
   "metadata": {},
   "outputs": [
    {
     "name": "stdout",
     "output_type": "stream",
     "text": [
      "pey\n",
      "pey\n",
      "010-1234-1234\n",
      "010-1234-1234\n",
      "1118\n",
      "1118\n",
      "a\n",
      "a\n",
      "None\n"
     ]
    },
    {
     "ename": "KeyError",
     "evalue": "'nokey'",
     "output_type": "error",
     "traceback": [
      "\u001b[1;31m---------------------------------------------------------------------------\u001b[0m",
      "\u001b[1;31mKeyError\u001b[0m                                  Traceback (most recent call last)",
      "Cell \u001b[1;32mIn[48], line 17\u001b[0m\n\u001b[0;32m     14\u001b[0m \u001b[38;5;28mprint\u001b[39m(a\u001b[38;5;241m.\u001b[39mget(\u001b[38;5;241m1\u001b[39m))\n\u001b[0;32m     16\u001b[0m \u001b[38;5;28mprint\u001b[39m(a\u001b[38;5;241m.\u001b[39mget(\u001b[38;5;124m\"\u001b[39m\u001b[38;5;124mnokey\u001b[39m\u001b[38;5;124m\"\u001b[39m))\n\u001b[1;32m---> 17\u001b[0m \u001b[38;5;28mprint\u001b[39m(\u001b[43ma\u001b[49m\u001b[43m[\u001b[49m\u001b[38;5;124;43m\"\u001b[39;49m\u001b[38;5;124;43mnokey\u001b[39;49m\u001b[38;5;124;43m\"\u001b[39;49m\u001b[43m]\u001b[49m)\n",
      "\u001b[1;31mKeyError\u001b[0m: 'nokey'"
     ]
    }
   ],
   "source": [
    "# key로 value얻기 - get()\n",
    "\n",
    "a = {\"name\": \"pey\", \"phone\": \"010-1234-1234\", \"birth\": \"1118\", 1: \"a\", \"he she\": \"b\"}\n",
    "print(a[\"name\"])\n",
    "print(a.get(\"name\"))\n",
    "\n",
    "print(a[\"phone\"])\n",
    "print(a.get(\"phone\"))\n",
    "\n",
    "print(a[\"birth\"])\n",
    "print(a.get(\"birth\"))\n",
    "\n",
    "print(a[1])\n",
    "print(a.get(1))\n",
    "\n",
    "print(a.get(\"nokey\"))\n",
    "print(a[\"nokey\"])\n"
   ]
  },
  {
   "cell_type": "code",
   "execution_count": 50,
   "metadata": {},
   "outputs": [
    {
     "name": "stdout",
     "output_type": "stream",
     "text": [
      "True\n",
      "False\n"
     ]
    }
   ],
   "source": [
    "# 해당 key가 딕셔너리 안에 있는 지 조사하기 - in\n",
    "\n",
    "a = {\"name\": \"pey\", \"phone\": \"010-1234-1234\", \"birth\": \"1118\", 1: \"a\", \"he she\": \"b\"}\n",
    "print('name' in a)\n",
    "print('email' in a)"
   ]
  },
  {
   "cell_type": "code",
   "execution_count": null,
   "metadata": {},
   "outputs": [],
   "source": []
  }
 ],
 "metadata": {
  "kernelspec": {
   "display_name": "Python 3",
   "language": "python",
   "name": "python3"
  },
  "language_info": {
   "codemirror_mode": {
    "name": "ipython",
    "version": 3
   },
   "file_extension": ".py",
   "mimetype": "text/x-python",
   "name": "python",
   "nbconvert_exporter": "python",
   "pygments_lexer": "ipython3",
   "version": "3.12.4"
  }
 },
 "nbformat": 4,
 "nbformat_minor": 2
}
