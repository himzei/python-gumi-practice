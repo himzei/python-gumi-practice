{
 "cells": [
  {
   "cell_type": "markdown",
   "metadata": {},
   "source": [
    "1. scores = {'Alice': 85, 'Bob': 92, 'Charlie': 78} Charlie의 점수를 출력하세요 "
   ]
  },
  {
   "cell_type": "code",
   "execution_count": 2,
   "metadata": {},
   "outputs": [
    {
     "name": "stdout",
     "output_type": "stream",
     "text": [
      "78\n",
      "78\n"
     ]
    }
   ],
   "source": [
    "scores = {'Alice': 85, 'Bob': 92, 'Charlie': 78}\n",
    "\n",
    "print(scores[\"Charlie\"])\n",
    "print(scores.get(\"Charlie\"))\n"
   ]
  },
  {
   "cell_type": "markdown",
   "metadata": {},
   "source": [
    "2. person = {'name': 'Alice', 'age': 25} 주어졌을 때 이름과 나이를 출력하는 프로그램을 만드세요. "
   ]
  },
  {
   "cell_type": "code",
   "execution_count": 3,
   "metadata": {},
   "outputs": [
    {
     "name": "stdout",
     "output_type": "stream",
     "text": [
      "이름은 Alice이고, 나이는 25 입니다. \n"
     ]
    }
   ],
   "source": [
    "person = {'name': 'Alice', 'age': 25} \n",
    "print(f'이름은 {person[\"name\"]}이고, 나이는 {person[\"age\"]} 입니다. ')"
   ]
  },
  {
   "cell_type": "markdown",
   "metadata": {},
   "source": [
    "3. grades = {'math': 90, 'science': 85, 'english': 88} 주어진 딕셔너리의 과목의 합과 평균을 구해주세요"
   ]
  },
  {
   "cell_type": "code",
   "execution_count": 7,
   "metadata": {},
   "outputs": [
    {
     "name": "stdout",
     "output_type": "stream",
     "text": [
      "과목의 합계는: 263이고, 평균은: 87.67입니다.\n"
     ]
    }
   ],
   "source": [
    "grades = {'math': 90, 'science': 85, 'english': 88}\n",
    "\n",
    "sum = grades['math'] + grades['science'] + grades['english']\n",
    "avg = sum / 3\n",
    "\n",
    "print(f\"과목의 합계는: {sum}이고, 평균은: {avg:.2f}입니다.\")"
   ]
  },
  {
   "cell_type": "markdown",
   "metadata": {},
   "source": [
    "4. employee = {'name': 'ken', 'position': 'Manager', 'salary': 5000} 에서 salary 요소를 삭제해 주세요 "
   ]
  },
  {
   "cell_type": "code",
   "execution_count": 8,
   "metadata": {},
   "outputs": [
    {
     "name": "stdout",
     "output_type": "stream",
     "text": [
      "{'name': 'ken', 'position': 'Manager'}\n"
     ]
    }
   ],
   "source": [
    "employee = {'name': 'ken', 'position': 'Manager', 'salary': 5000} \n",
    "del employee['salary']\n",
    "\n",
    "print(employee)"
   ]
  },
  {
   "cell_type": "markdown",
   "metadata": {},
   "source": [
    "5. foods = {\"딸기\": 1000, \"사과\": 2000, \"수박\": 3000} 에서 \"김치\": 5000 을 추가해 주세요 |"
   ]
  },
  {
   "cell_type": "code",
   "execution_count": 9,
   "metadata": {},
   "outputs": [
    {
     "name": "stdout",
     "output_type": "stream",
     "text": [
      "{'딸기': 1000, '사과': 2000, '수박': 3000, '김치': 5000}\n"
     ]
    }
   ],
   "source": [
    "foods = {\"딸기\": 1000, \"사과\": 2000, \"수박\": 3000}\n",
    "\n",
    "foods[\"김치\"] = 5000\n",
    "\n",
    "print(foods)"
   ]
  },
  {
   "cell_type": "markdown",
   "metadata": {},
   "source": [
    "6. foods = {\"딸기\": 1000, \"사과\": 2000, \"수박\": 3000} 에서 수박이 있으면 True 를 출력하는 프로그램을 만드세요"
   ]
  },
  {
   "cell_type": "code",
   "execution_count": 11,
   "metadata": {},
   "outputs": [
    {
     "name": "stdout",
     "output_type": "stream",
     "text": [
      "True\n"
     ]
    }
   ],
   "source": [
    "foods = {\"딸기\": 1000, \"사과\": 2000, \"수박\": 3000}\n",
    "\n",
    "print(\"수박\" in foods)"
   ]
  },
  {
   "cell_type": "markdown",
   "metadata": {},
   "source": []
  }
 ],
 "metadata": {
  "kernelspec": {
   "display_name": "Python 3",
   "language": "python",
   "name": "python3"
  },
  "language_info": {
   "codemirror_mode": {
    "name": "ipython",
    "version": 3
   },
   "file_extension": ".py",
   "mimetype": "text/x-python",
   "name": "python",
   "nbconvert_exporter": "python",
   "pygments_lexer": "ipython3",
   "version": "3.12.4"
  }
 },
 "nbformat": 4,
 "nbformat_minor": 2
}
