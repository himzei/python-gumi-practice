{
 "cells": [
  {
   "cell_type": "markdown",
   "metadata": {},
   "source": [
    "### 리스트는 어떻게 만들고 사용할까? "
   ]
  },
  {
   "cell_type": "code",
   "execution_count": 2,
   "metadata": {},
   "outputs": [],
   "source": [
    "a = []\n",
    "b = [1, 2, 3]\n",
    "c = [\"Life\", \"is\", \"too\", \"short\"]\n",
    "d = [1, 2, \"Life\", \"is\"]\n",
    "e = [1, 2, [\"Life\", \"is\"]]"
   ]
  },
  {
   "cell_type": "code",
   "execution_count": 4,
   "metadata": {},
   "outputs": [
    {
     "name": "stdout",
     "output_type": "stream",
     "text": [
      "[1, 2, 3]\n",
      "<class 'list'>\n"
     ]
    }
   ],
   "source": [
    "a = [1, 2, 3]\n",
    "print(a)\n",
    "print(type(a))\n"
   ]
  },
  {
   "cell_type": "code",
   "execution_count": 10,
   "metadata": {},
   "outputs": [
    {
     "name": "stdout",
     "output_type": "stream",
     "text": [
      "p\n",
      "1\n",
      "2\n",
      "3\n",
      "<class 'int'>\n",
      "6\n"
     ]
    }
   ],
   "source": [
    "a = [1, 2, 3]\n",
    "b = \"python\"\n",
    "\n",
    "print(b[0])\n",
    "print(a[0])\n",
    "print(a[1])\n",
    "print(a[2])\n",
    "\n",
    "print(type(a[0]))\n",
    "print(a[0] + a[2] + a[1])"
   ]
  },
  {
   "cell_type": "code",
   "execution_count": 17,
   "metadata": {},
   "outputs": [
    {
     "name": "stdout",
     "output_type": "stream",
     "text": [
      "n\n",
      "n\n",
      "[1, 2, 3]\n",
      "3\n",
      "3\n"
     ]
    }
   ],
   "source": [
    "print(b[5])\n",
    "print(b[-1])\n",
    "\n",
    "print(a)\n",
    "print(a[2])\n",
    "print(a[-1])"
   ]
  },
  {
   "cell_type": "code",
   "execution_count": 18,
   "metadata": {},
   "outputs": [
    {
     "data": {
      "text/plain": [
       "4"
      ]
     },
     "execution_count": 18,
     "metadata": {},
     "output_type": "execute_result"
    }
   ],
   "source": [
    "a = [1, 2, 3, [\"a\", \"b\", \"c\"]]\n",
    "len(a)\n"
   ]
  },
  {
   "cell_type": "code",
   "execution_count": 22,
   "metadata": {},
   "outputs": [
    {
     "name": "stdout",
     "output_type": "stream",
     "text": [
      "1\n",
      "2\n",
      "3\n",
      "['a', 'b', 'c']\n",
      "a\n",
      "b\n",
      "c\n"
     ]
    }
   ],
   "source": [
    "# 리스트의 인덱싱\n",
    "print(a[0])\n",
    "print(a[1])\n",
    "print(a[2])\n",
    "print(a[3])\n",
    "print(a[3][0])\n",
    "print(a[3][1])\n",
    "print(a[3][2])"
   ]
  },
  {
   "cell_type": "code",
   "execution_count": 28,
   "metadata": {},
   "outputs": [
    {
     "name": "stdout",
     "output_type": "stream",
     "text": [
      "[1, 2]\n",
      "<class 'list'>\n",
      "[1, 2]\n",
      "[3, 4, 5]\n",
      "[1, 2, 3, 4, 5]\n"
     ]
    }
   ],
   "source": [
    "# 리스트의 슬라이싱 \n",
    "\n",
    "a = \"python\"\n",
    "b = [1, 2, 3, 4, 5]\n",
    "print(b[0:2])\n",
    "print(type(b[0:2]))\n",
    "\n",
    "print(b[:2])\n",
    "print(b[2:])\n",
    "print(b[:])"
   ]
  },
  {
   "cell_type": "code",
   "execution_count": 35,
   "metadata": {},
   "outputs": [
    {
     "name": "stdout",
     "output_type": "stream",
     "text": [
      "['a', 'b', 'c']\n",
      "['a', 'b']\n",
      "3\n",
      "is\n"
     ]
    }
   ],
   "source": [
    "# 중첩 슬라이싱 \n",
    "a = [1, 2, 3, [\"a\", \"b\", \"c\"], 4, 5]\n",
    "print(a[3])\n",
    "print(a[3][0:2])\n",
    "\n",
    "# 삼중리스트\n",
    "a = [1, 2, [\"a\", \"b\", [\"Life\", \"is\"]]]\n",
    "print(len(a))\n",
    "print(a[2][2][1])"
   ]
  },
  {
   "cell_type": "code",
   "execution_count": 38,
   "metadata": {},
   "outputs": [
    {
     "name": "stdout",
     "output_type": "stream",
     "text": [
      "[2, 3, ['a', 'b', 'c'], 4]\n",
      "['a', 'b']\n"
     ]
    }
   ],
   "source": [
    "# 중첩된 리스트에서 슬라이싱 하기 \n",
    "\n",
    "a = [1, 2, 3, [\"a\", \"b\", \"c\"], 4, 5]\n",
    "print(a[1:5])\n",
    "print(a[3][0:2])\n"
   ]
  },
  {
   "cell_type": "markdown",
   "metadata": {},
   "source": [
    "### 리스트 연산"
   ]
  },
  {
   "cell_type": "code",
   "execution_count": 39,
   "metadata": {},
   "outputs": [
    {
     "name": "stdout",
     "output_type": "stream",
     "text": [
      "[1, 2, 3, 4, 5, 6]\n"
     ]
    }
   ],
   "source": [
    "# 리스트 더하기 \n",
    "\n",
    "a = [1, 2, 3] \n",
    "b = [4, 5, 6]\n",
    "print(a + b)"
   ]
  },
  {
   "cell_type": "code",
   "execution_count": 40,
   "metadata": {},
   "outputs": [
    {
     "name": "stdout",
     "output_type": "stream",
     "text": [
      "[1, 2, 3, 1, 2, 3, 1, 2, 3]\n"
     ]
    }
   ],
   "source": [
    "# 리스트 반복하기 \n",
    "\n",
    "a = [1, 2, 3] \n",
    "print(a * 3)"
   ]
  },
  {
   "cell_type": "code",
   "execution_count": 42,
   "metadata": {},
   "outputs": [
    {
     "name": "stdout",
     "output_type": "stream",
     "text": [
      "abc\n"
     ]
    }
   ],
   "source": [
    "print(\"abc\")"
   ]
  },
  {
   "cell_type": "code",
   "execution_count": 41,
   "metadata": {},
   "outputs": [
    {
     "data": {
      "text/plain": [
       "3"
      ]
     },
     "execution_count": 41,
     "metadata": {},
     "output_type": "execute_result"
    }
   ],
   "source": [
    "# 리스트 길이 구하기 \n",
    "len(a)"
   ]
  },
  {
   "cell_type": "code",
   "execution_count": 44,
   "metadata": {},
   "outputs": [
    {
     "data": {
      "text/plain": [
       "'3hi'"
      ]
     },
     "execution_count": 44,
     "metadata": {},
     "output_type": "execute_result"
    }
   ],
   "source": [
    "str(a[2]) + \"hi\""
   ]
  },
  {
   "cell_type": "markdown",
   "metadata": {},
   "source": [
    "### 리스트의 수정과 삭제"
   ]
  },
  {
   "cell_type": "code",
   "execution_count": 45,
   "metadata": {},
   "outputs": [
    {
     "name": "stdout",
     "output_type": "stream",
     "text": [
      "[1, 2, 4]\n"
     ]
    }
   ],
   "source": [
    "# 리스트의 값 수정\n",
    "\n",
    "a = [1, 2, 3]\n",
    "a[2] = 4\n",
    "\n",
    "print(a)"
   ]
  },
  {
   "cell_type": "code",
   "execution_count": 46,
   "metadata": {},
   "outputs": [
    {
     "ename": "TypeError",
     "evalue": "'str' object does not support item assignment",
     "output_type": "error",
     "traceback": [
      "\u001b[1;31m---------------------------------------------------------------------------\u001b[0m",
      "\u001b[1;31mTypeError\u001b[0m                                 Traceback (most recent call last)",
      "Cell \u001b[1;32mIn[46], line 2\u001b[0m\n\u001b[0;32m      1\u001b[0m b \u001b[38;5;241m=\u001b[39m \u001b[38;5;124m\"\u001b[39m\u001b[38;5;124mpithon\u001b[39m\u001b[38;5;124m\"\u001b[39m\n\u001b[1;32m----> 2\u001b[0m \u001b[43mb\u001b[49m\u001b[43m[\u001b[49m\u001b[38;5;241;43m1\u001b[39;49m\u001b[43m]\u001b[49m \u001b[38;5;241m=\u001b[39m \u001b[38;5;124m\"\u001b[39m\u001b[38;5;124my\u001b[39m\u001b[38;5;124m\"\u001b[39m\n\u001b[0;32m      3\u001b[0m \u001b[38;5;28mprint\u001b[39m(b)\n",
      "\u001b[1;31mTypeError\u001b[0m: 'str' object does not support item assignment"
     ]
    }
   ],
   "source": [
    "b = \"pithon\"\n",
    "b[1] = \"y\"\n",
    "print(b)"
   ]
  },
  {
   "cell_type": "code",
   "execution_count": 49,
   "metadata": {},
   "outputs": [
    {
     "name": "stdout",
     "output_type": "stream",
     "text": [
      "[1, 2, 4]\n",
      "[1, 2]\n"
     ]
    }
   ],
   "source": [
    "# del함수를 사용해서 리스트 요소를 삭제\n",
    "print(a)\n",
    "\n",
    "del a[2]\n",
    "\n",
    "print(a)"
   ]
  },
  {
   "cell_type": "markdown",
   "metadata": {},
   "source": [
    "### 리스트 관련 함수 "
   ]
  },
  {
   "cell_type": "code",
   "execution_count": 6,
   "metadata": {},
   "outputs": [
    {
     "name": "stdout",
     "output_type": "stream",
     "text": [
      "[1, 2, 3, 4]\n"
     ]
    }
   ],
   "source": [
    "# append(x) 리스트의 마지막에 x를 추가하는 함수\n",
    "\n",
    "a = [1, 2, 3] \n",
    "\n",
    "# [1, 2, 3].append(4)\n",
    "a.append(4)\n",
    "print(a)"
   ]
  },
  {
   "cell_type": "code",
   "execution_count": 8,
   "metadata": {},
   "outputs": [
    {
     "name": "stdout",
     "output_type": "stream",
     "text": [
      "['hi', 'hello']\n"
     ]
    }
   ],
   "source": [
    "b = [] \n",
    "b.append(\"hi\")\n",
    "b.append(\"hello\")\n",
    "print(b)"
   ]
  },
  {
   "cell_type": "code",
   "execution_count": 12,
   "metadata": {},
   "outputs": [
    {
     "name": "stdout",
     "output_type": "stream",
     "text": [
      "[1, 2, 3, 4, 5]\n",
      "[1, 2, 3, 4, 5, [6, 7]]\n"
     ]
    }
   ],
   "source": [
    "a = [1, 2, 3, 4] \n",
    "\n",
    "a.append(5)\n",
    "print(a)\n",
    "\n",
    "a.append([6, 7])\n",
    "print(a)"
   ]
  },
  {
   "cell_type": "code",
   "execution_count": 14,
   "metadata": {},
   "outputs": [
    {
     "name": "stdout",
     "output_type": "stream",
     "text": [
      "sort() 전  [1, 4, 3, 2]\n",
      "sort() 후  [1, 2, 3, 4]\n"
     ]
    }
   ],
   "source": [
    "# 리스트 정렬 \n",
    "a = [1, 4, 3, 2]\n",
    "print(\"sort() 전 \", a)\n",
    "a.sort()\n",
    "print(\"sort() 후 \", a)\n"
   ]
  },
  {
   "cell_type": "code",
   "execution_count": 16,
   "metadata": {},
   "outputs": [
    {
     "name": "stdout",
     "output_type": "stream",
     "text": [
      "sort() 전  ['a', 'c', 'b']\n",
      "sort() 후  ['a', 'b', 'c']\n",
      "97\n",
      "98\n"
     ]
    }
   ],
   "source": [
    "a = [\"a\", \"c\", \"b\"]\n",
    "print(\"sort() 전 \", a)\n",
    "a.sort()\n",
    "print(\"sort() 후 \", a)\n",
    "\n",
    "print(ord(\"a\"))\n",
    "print(ord(\"b\"))"
   ]
  },
  {
   "cell_type": "code",
   "execution_count": 20,
   "metadata": {},
   "outputs": [
    {
     "name": "stdout",
     "output_type": "stream",
     "text": [
      "sort() 전  ['a', 'c', 'b', 'A', 'E', 'C', '가', '다', '나']\n",
      "sort() 후  ['A', 'C', 'E', 'a', 'b', 'c', '가', '나', '다']\n",
      "44032\n"
     ]
    }
   ],
   "source": [
    "a = [\"a\", \"c\", \"b\", \"A\", \"E\", \"C\", \"가\", \"다\", \"나\"]\n",
    "print(\"sort() 전 \", a)\n",
    "a.sort()\n",
    "print(\"sort() 후 \", a)\n",
    "\n",
    "print(ord(\"가\"))\n",
    "\n"
   ]
  },
  {
   "cell_type": "code",
   "execution_count": 21,
   "metadata": {},
   "outputs": [
    {
     "name": "stdout",
     "output_type": "stream",
     "text": [
      "['b', 'c', 'a']\n"
     ]
    }
   ],
   "source": [
    "# reverse 리스트 뒤집기 \n",
    "a = [\"a\", \"c\", \"b\"]\n",
    "a.reverse()\n",
    "print(a)"
   ]
  },
  {
   "cell_type": "code",
   "execution_count": 23,
   "metadata": {},
   "outputs": [
    {
     "name": "stdout",
     "output_type": "stream",
     "text": [
      "2\n",
      "1\n"
     ]
    }
   ],
   "source": [
    "# 인덱스 반환  - index\n",
    "\n",
    "a = [1, 2, 3] \n",
    "print(a.index(3))\n",
    "\n",
    "b = [\"사과\", \"포도\", \"수박\"]\n",
    "print(b.index(\"포도\"))"
   ]
  },
  {
   "cell_type": "code",
   "execution_count": 26,
   "metadata": {},
   "outputs": [
    {
     "name": "stdout",
     "output_type": "stream",
     "text": [
      "[4, 1, 2, 3]\n",
      "[4, 1, 2, 5, 3]\n",
      "[4, 1, 2, 'hi', 5, 3]\n"
     ]
    }
   ],
   "source": [
    "# 리스트에 요소 삽입 - insert()\n",
    "a = [1, 2, 3] \n",
    "\n",
    "a.insert(0, 4)\n",
    "print(a)\n",
    "\n",
    "a.insert(3, 5)\n",
    "print(a)\n",
    "\n",
    "a.insert(3, \"hi\")\n",
    "print(a)"
   ]
  },
  {
   "cell_type": "code",
   "execution_count": 33,
   "metadata": {},
   "outputs": [
    {
     "name": "stdout",
     "output_type": "stream",
     "text": [
      "[1, 2, 3, 1, 2, 3]\n",
      "[1, 2, 1, 2, 3]\n",
      "[1, 2, 1, 2]\n"
     ]
    }
   ],
   "source": [
    "# 리스트 요소 제거 remove\n",
    "a = [1, 2, 3, 1, 2, 3, \"hi\"]\n",
    "a.remove(\"hi\")\n",
    "print(a)\n",
    "\n",
    "a.remove(3)\n",
    "print(a)\n",
    "\n",
    "a.remove(3)\n",
    "print(a)"
   ]
  },
  {
   "cell_type": "code",
   "execution_count": 37,
   "metadata": {},
   "outputs": [
    {
     "name": "stdout",
     "output_type": "stream",
     "text": [
      "3\n",
      "[1, 2]\n"
     ]
    }
   ],
   "source": [
    "# 리스트 요소 추출 - pop()\n",
    "\n",
    "a = [1, 2, 3] \n",
    "\n",
    "print(a.pop())\n",
    "print(a)\n"
   ]
  },
  {
   "cell_type": "code",
   "execution_count": 38,
   "metadata": {},
   "outputs": [
    {
     "data": {
      "text/plain": [
       "2"
      ]
     },
     "execution_count": 38,
     "metadata": {},
     "output_type": "execute_result"
    }
   ],
   "source": [
    "# 리스트에 포함된 요소의 개수 세기 - count()\n",
    "\n",
    "a = [1, 2, 3, 1]\n",
    "a.count(1)"
   ]
  },
  {
   "cell_type": "code",
   "execution_count": 39,
   "metadata": {},
   "outputs": [
    {
     "data": {
      "text/plain": [
       "5"
      ]
     },
     "execution_count": 39,
     "metadata": {},
     "output_type": "execute_result"
    }
   ],
   "source": [
    "a = \"\"\"\n",
    "성별 논란의 중심에 선 또 한 명의 여성 복서 린위팅(타이완)이 결승 진출에 성공했습니다.\n",
    "\n",
    "린위팅은 8일(한국시간) 프랑스 파리 롤랑가로스 경기장에서 열린 2024 파리 올림픽 복싱 여자 57㎏급 준결승전에서 튀르키예의 에스라 카르만을 상대로 5-0(30-27 30-27 30-27 30-27 30-27) 판정승을 따냈습니다.\n",
    "\n",
    "전날 여자 66㎏급 결승 진출을 확정한 이마네 칼리프(알제리)와 함께 이번 대회 내내 '성별 논란'에 시달렸던 린위팅은 금메달까지 1승을 남겨뒀습니다.\n",
    "\n",
    "린위팅은 경기 뒤 \"힘든 여정이었다\"며 \"결승에서는 그간 배운 모든 걸 활용해 최선을 다하겠다. 여기까지 온 내 자신에게 감사할 뿐\"이라고 말했습니다.\n",
    "\n",
    "린위팅은 긴 리치를 이용해 근접거리에서 공격을 시도하는 카르만과 간격을 유지하는 전략으로 승리를 가져갔습니다.\n",
    "\"\"\"\n",
    "\n",
    "a.count('린위팅')"
   ]
  },
  {
   "cell_type": "code",
   "execution_count": 41,
   "metadata": {},
   "outputs": [
    {
     "name": "stdout",
     "output_type": "stream",
     "text": [
      "[1, 2, 3, 4, 5]\n",
      "[1, 2, 3, 4, 5, 6, 7]\n"
     ]
    }
   ],
   "source": [
    "# 리스트 확장 - extend \n",
    "a = [1, 2, 3] \n",
    "a.extend([4, 5])\n",
    "print(a)\n",
    "\n",
    "b = [6, 7]\n",
    "a.extend(b)\n",
    "print(a)"
   ]
  },
  {
   "cell_type": "code",
   "execution_count": null,
   "metadata": {},
   "outputs": [],
   "source": []
  }
 ],
 "metadata": {
  "kernelspec": {
   "display_name": "Python 3",
   "language": "python",
   "name": "python3"
  },
  "language_info": {
   "codemirror_mode": {
    "name": "ipython",
    "version": 3
   },
   "file_extension": ".py",
   "mimetype": "text/x-python",
   "name": "python",
   "nbconvert_exporter": "python",
   "pygments_lexer": "ipython3",
   "version": "3.12.4"
  }
 },
 "nbformat": 4,
 "nbformat_minor": 2
}
