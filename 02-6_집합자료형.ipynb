{
 "cells": [
  {
   "cell_type": "markdown",
   "metadata": {},
   "source": [
    "### 집합자료형\n",
    "* 중복을 허용하지 않는다. \n",
    "* 순서가 없다 "
   ]
  },
  {
   "cell_type": "code",
   "execution_count": 2,
   "metadata": {},
   "outputs": [
    {
     "name": "stdout",
     "output_type": "stream",
     "text": [
      "{1, 2, 3}\n",
      "<class 'set'>\n",
      "{'name': 'pey', 'age': 30}\n",
      "<class 'dict'>\n"
     ]
    }
   ],
   "source": [
    "s1 = set([1, 2, 3])\n",
    "dic = {\"name\": \"pey\", \"age\": 30}\n",
    "\n",
    "# 집합자료형\n",
    "print(s1)\n",
    "print(type(s1))\n",
    "\n",
    "# 딕셔너리\n",
    "print(dic)\n",
    "print(type(dic))\n"
   ]
  },
  {
   "cell_type": "code",
   "execution_count": 3,
   "metadata": {},
   "outputs": [
    {
     "name": "stdout",
     "output_type": "stream",
     "text": [
      "{'o', 'h', 'e', 'l'}\n",
      "<class 'set'>\n"
     ]
    }
   ],
   "source": [
    "s2 = set(\"hello\")\n",
    "print(s2)\n",
    "print(type(s2))"
   ]
  },
  {
   "cell_type": "code",
   "execution_count": 9,
   "metadata": {},
   "outputs": [
    {
     "name": "stdout",
     "output_type": "stream",
     "text": [
      "{1, 2, 3}\n",
      "<class 'set'>\n",
      "[1, 2, 3]\n",
      "<class 'list'>\n",
      "2\n",
      "(1, 2, 3)\n",
      "<class 'tuple'>\n"
     ]
    }
   ],
   "source": [
    "# 집합자료형\n",
    "s1 = set([1, 2, 3])\n",
    "print(s1)\n",
    "print(type(s1))\n",
    "\n",
    "# 집합자료형에서는 인덱싱을 지원하지 않음\n",
    "# print(s1[1])\n",
    "\n",
    "\n",
    "# 리스트함수를 통해 자료형 변환\n",
    "l1 = list(s1)\n",
    "print(l1)\n",
    "print(type(l1))\n",
    "print(l1[1])\n",
    "\n",
    "\n",
    "# 튜플함수를 이용해 자료형 변환\n",
    "t1 = tuple(s1)\n",
    "print(t1)\n",
    "print(type(t1))"
   ]
  },
  {
   "cell_type": "markdown",
   "metadata": {},
   "source": [
    "### 교집합, 합집합, 차집합 구하기 \n",
    "* &, |, -"
   ]
  },
  {
   "cell_type": "code",
   "execution_count": 11,
   "metadata": {},
   "outputs": [
    {
     "name": "stdout",
     "output_type": "stream",
     "text": [
      "{1, 2, 3, 4, 5, 6}\n",
      "<class 'set'>\n",
      "{'name': 'pey', 'age': 30}\n",
      "<class 'dict'>\n"
     ]
    }
   ],
   "source": [
    "\n",
    "\n",
    "test = {1, 2, 3, 4, 5, 6}\n",
    "print(test)\n",
    "print(type(test))\n",
    "\n",
    "test2 = {\"name\": \"pey\", \"age\": 30}\n",
    "print(test2)\n",
    "print(type(test2))"
   ]
  },
  {
   "cell_type": "code",
   "execution_count": 15,
   "metadata": {},
   "outputs": [
    {
     "name": "stdout",
     "output_type": "stream",
     "text": [
      "{4, 5, 6}\n",
      "[4, 5, 6]\n",
      "{4, 5, 6}\n"
     ]
    }
   ],
   "source": [
    "s1 = set([1, 2, 3, 4, 5, 6])\n",
    "s2 = set([4, 5, 6, 7, 8, 9])\n",
    "result = s1 & s2\n",
    "\n",
    "# 교집합 \n",
    "print(result)\n",
    "print(list(result))\n",
    "\n",
    "# 교집합 - intersection()\n",
    "reuslt = s1.intersection(s2)\n",
    "print(result)"
   ]
  },
  {
   "cell_type": "code",
   "execution_count": null,
   "metadata": {},
   "outputs": [],
   "source": []
  }
 ],
 "metadata": {
  "kernelspec": {
   "display_name": "Python 3",
   "language": "python",
   "name": "python3"
  },
  "language_info": {
   "codemirror_mode": {
    "name": "ipython",
    "version": 3
   },
   "file_extension": ".py",
   "mimetype": "text/x-python",
   "name": "python",
   "nbconvert_exporter": "python",
   "pygments_lexer": "ipython3",
   "version": "3.12.4"
  }
 },
 "nbformat": 4,
 "nbformat_minor": 2
}
