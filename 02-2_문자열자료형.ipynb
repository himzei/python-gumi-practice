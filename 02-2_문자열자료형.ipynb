{
 "cells": [
  {
   "cell_type": "markdown",
   "metadata": {},
   "source": [
    "### 문자열은 어떻게 만들고 사용할까? "
   ]
  },
  {
   "cell_type": "code",
   "execution_count": 1,
   "metadata": {},
   "outputs": [
    {
     "name": "stdout",
     "output_type": "stream",
     "text": [
      "Hello World\n"
     ]
    }
   ],
   "source": [
    "# 큰따옴표 \n",
    "\n",
    "a = \"Hello World\"\n",
    "print(a)"
   ]
  },
  {
   "cell_type": "code",
   "execution_count": 2,
   "metadata": {},
   "outputs": [
    {
     "name": "stdout",
     "output_type": "stream",
     "text": [
      "Python is fun\n"
     ]
    }
   ],
   "source": [
    "# 작은따옴표\n",
    "\n",
    "b = 'Python is fun'\n",
    "print(b)"
   ]
  },
  {
   "cell_type": "code",
   "execution_count": 3,
   "metadata": {},
   "outputs": [
    {
     "name": "stdout",
     "output_type": "stream",
     "text": [
      " \n",
      "Life is too short, You need python\n",
      "\n"
     ]
    }
   ],
   "source": [
    "# 큰따옴표 3개를 연속으로 \n",
    "\n",
    "c = \"\"\" \n",
    "Life is too short, You need python\n",
    "\"\"\"\n",
    "\n",
    "print(c)"
   ]
  },
  {
   "cell_type": "code",
   "execution_count": 4,
   "metadata": {},
   "outputs": [
    {
     "name": "stdout",
     "output_type": "stream",
     "text": [
      "Life is too short, You need python\n"
     ]
    }
   ],
   "source": [
    "# 작은따옴표 3개를 연속으로 \n",
    "\n",
    "d = '''Life is too short, You need python'''\n",
    "print(d)"
   ]
  },
  {
   "cell_type": "code",
   "execution_count": 7,
   "metadata": {},
   "outputs": [
    {
     "name": "stdout",
     "output_type": "stream",
     "text": [
      "Python\"s favorite food is perl\n"
     ]
    }
   ],
   "source": [
    "a = \"Python's favorite food is perl\"\n",
    "print(a)"
   ]
  },
  {
   "cell_type": "code",
   "execution_count": 8,
   "metadata": {},
   "outputs": [
    {
     "name": "stdout",
     "output_type": "stream",
     "text": [
      "\"Python is very easy.\" he says\n"
     ]
    }
   ],
   "source": [
    "b = '\"Python is very easy.\" he says'\n",
    "print(b)"
   ]
  },
  {
   "cell_type": "code",
   "execution_count": 10,
   "metadata": {},
   "outputs": [
    {
     "name": "stdout",
     "output_type": "stream",
     "text": [
      "Python's favorite food is perl\n",
      "\"Python is very easy.\" he says\n"
     ]
    }
   ],
   "source": [
    "food = 'Python\\'s favorite food is perl'\n",
    "print(food)\n",
    "\n",
    "say = \"\\\"Python is very easy.\\\" he says\"\n",
    "print(say)"
   ]
  },
  {
   "cell_type": "markdown",
   "metadata": {},
   "source": [
    "### 여러 줄인 문자열을 변수에 대입하고 싶을 때"
   ]
  },
  {
   "cell_type": "code",
   "execution_count": 11,
   "metadata": {},
   "outputs": [
    {
     "name": "stdout",
     "output_type": "stream",
     "text": [
      "Life is too short\n",
      "You need python\n"
     ]
    }
   ],
   "source": [
    "# 이스케이프 코드 \\n \n",
    "\n",
    "multiline = \"Life is too short\\nYou need python\"\n",
    "print(multiline)"
   ]
  },
  {
   "cell_type": "code",
   "execution_count": 14,
   "metadata": {},
   "outputs": [
    {
     "name": "stdout",
     "output_type": "stream",
     "text": [
      " \n",
      "    Life is too short\n",
      "    You need python\n",
      "\n",
      " \n",
      "Life is too short\n",
      "You need python\n",
      "\n"
     ]
    }
   ],
   "source": [
    "# 작은따옴표3개, 큰따옴표3개\n",
    "\n",
    "multiline = ''' \n",
    "Life is too short\n",
    "You need python\n",
    "'''\n",
    "multiline2 = \"\"\" \n",
    "Life is too short\n",
    "You need python\n",
    "\"\"\"\n",
    "\n",
    "print(multiline)\n",
    "print(multiline2)"
   ]
  },
  {
   "cell_type": "markdown",
   "metadata": {},
   "source": [
    "### 문자열 연산하기\n",
    "* 문자열을 더하거나 곱할 수 있다. "
   ]
  },
  {
   "cell_type": "code",
   "execution_count": 16,
   "metadata": {},
   "outputs": [
    {
     "data": {
      "text/plain": [
       "'Pyhton is fun'"
      ]
     },
     "execution_count": 16,
     "metadata": {},
     "output_type": "execute_result"
    }
   ],
   "source": [
    "# 문자열 더해서 연결하기 \n",
    "\n",
    "head = \"Pyhton\"\n",
    "tail = \" is fun\" \n",
    "\n",
    "head + tail "
   ]
  },
  {
   "cell_type": "code",
   "execution_count": 20,
   "metadata": {},
   "outputs": [
    {
     "name": "stdout",
     "output_type": "stream",
     "text": [
      "pythonpython\n"
     ]
    }
   ],
   "source": [
    "# 문자열 곱하기 \n",
    "a = \"python\" \n",
    "\n",
    "print(a * 2)\n"
   ]
  },
  {
   "cell_type": "code",
   "execution_count": 24,
   "metadata": {},
   "outputs": [
    {
     "name": "stdout",
     "output_type": "stream",
     "text": [
      "==================================================\n",
      "My program My program My program My program \n",
      "==================================================\n"
     ]
    }
   ],
   "source": [
    "print(\"=\" * 50)\n",
    "print(\"My program \" * 4)\n",
    "print(\"=\" * 50)"
   ]
  },
  {
   "cell_type": "code",
   "execution_count": 1,
   "metadata": {},
   "outputs": [
    {
     "name": "stdout",
     "output_type": "stream",
     "text": [
      "a:  34\n",
      "b:  7\n"
     ]
    }
   ],
   "source": [
    "# 문자열 길이 구하기 len()\n",
    "\n",
    "a = \"Life is too short, You need python\"\n",
    "print(\"a: \", len(a))\n",
    "\n",
    "b = \"python \"\n",
    "print(\"b: \", len(b))"
   ]
  },
  {
   "cell_type": "markdown",
   "metadata": {},
   "source": [
    "### 문자열 인덱싱과 슬라이싱"
   ]
  },
  {
   "cell_type": "code",
   "execution_count": 31,
   "metadata": {},
   "outputs": [
    {
     "name": "stdout",
     "output_type": "stream",
     "text": [
      "34\n",
      "L\n",
      "i\n",
      "f\n",
      "e\n",
      "n\n",
      "o\n"
     ]
    }
   ],
   "source": [
    "a = \"Life is too short, You need python\"\n",
    "print(len(a))\n",
    "\n",
    "print(a[0])\n",
    "print(a[1])\n",
    "print(a[2])\n",
    "print(a[3])\n",
    "\n",
    "print(a[-1])\n",
    "print(a[-2])"
   ]
  },
  {
   "cell_type": "code",
   "execution_count": 32,
   "metadata": {},
   "outputs": [
    {
     "name": "stdout",
     "output_type": "stream",
     "text": [
      "Life\n"
     ]
    }
   ],
   "source": [
    "print(a[0] + a[1] + a[2] + a[3])"
   ]
  },
  {
   "cell_type": "code",
   "execution_count": 37,
   "metadata": {},
   "outputs": [
    {
     "name": "stdout",
     "output_type": "stream",
     "text": [
      "Lif\n",
      "Life\n",
      "Life \n",
      "Life i\n",
      "too\n"
     ]
    }
   ],
   "source": [
    "a = \"Life is too short, You need python\"\n",
    "print(a[0:3])\n",
    "print(a[0:4])\n",
    "print(a[0:5])\n",
    "print(a[0:6])\n",
    "\n",
    "print(a[8:11])\n",
    "\n"
   ]
  },
  {
   "cell_type": "code",
   "execution_count": 43,
   "metadata": {},
   "outputs": [
    {
     "name": "stdout",
     "output_type": "stream",
     "text": [
      "is\n",
      "short\n",
      "You need python\n",
      "Life is too short, \n",
      "Life is too short, You need python\n",
      "Life is too short, You need pytho\n"
     ]
    }
   ],
   "source": [
    "a = \"Life is too short, You need python\"\n",
    "\n",
    "print(a[5:7])\n",
    "print(a[12:17])\n",
    "print(a[19: ])\n",
    "print(a[ :19])\n",
    "print(a[:])\n",
    "print(a[0:-1])\n"
   ]
  },
  {
   "cell_type": "code",
   "execution_count": 44,
   "metadata": {},
   "outputs": [
    {
     "name": "stdout",
     "output_type": "stream",
     "text": [
      "year:  2024\n",
      "day:  0806\n",
      "weather:  Sunny\n"
     ]
    }
   ],
   "source": [
    "a = \"20240806Sunny\"\n",
    "\n",
    "year = a[0:4]\n",
    "day = a[4:8]\n",
    "weather = a[8:13]\n",
    "\n",
    "print(\"year: \", year)\n",
    "print(\"day: \", day)\n",
    "print(\"weather: \", weather)"
   ]
  },
  {
   "cell_type": "code",
   "execution_count": 47,
   "metadata": {},
   "outputs": [
    {
     "ename": "TypeError",
     "evalue": "'str' object does not support item assignment",
     "output_type": "error",
     "traceback": [
      "\u001b[1;31m---------------------------------------------------------------------------\u001b[0m",
      "\u001b[1;31mTypeError\u001b[0m                                 Traceback (most recent call last)",
      "Cell \u001b[1;32mIn[47], line 4\u001b[0m\n\u001b[0;32m      1\u001b[0m \u001b[38;5;66;03m# 문자열 바꾸기\u001b[39;00m\n\u001b[0;32m      3\u001b[0m a \u001b[38;5;241m=\u001b[39m \u001b[38;5;124m\"\u001b[39m\u001b[38;5;124mpithon\u001b[39m\u001b[38;5;124m\"\u001b[39m\n\u001b[1;32m----> 4\u001b[0m \u001b[43ma\u001b[49m\u001b[43m[\u001b[49m\u001b[38;5;241;43m1\u001b[39;49m\u001b[43m]\u001b[49m \u001b[38;5;241m=\u001b[39m \u001b[38;5;124m\"\u001b[39m\u001b[38;5;124my\u001b[39m\u001b[38;5;124m\"\u001b[39m \n",
      "\u001b[1;31mTypeError\u001b[0m: 'str' object does not support item assignment"
     ]
    }
   ],
   "source": [
    "# 문자열 바꾸기\n",
    "\n",
    "a = \"pithon\"\n",
    "a[1] = \"y\" "
   ]
  },
  {
   "cell_type": "code",
   "execution_count": 50,
   "metadata": {},
   "outputs": [
    {
     "name": "stdout",
     "output_type": "stream",
     "text": [
      "P\n",
      "thon\n",
      "Python\n"
     ]
    }
   ],
   "source": [
    "a = \"Pithon\" \n",
    "\n",
    "print(a[:1])\n",
    "print(a[2:])\n",
    "\n",
    "print(a[:1] + 'y' + a[2:])"
   ]
  },
  {
   "cell_type": "markdown",
   "metadata": {},
   "source": [
    "### 문자열 포매팅"
   ]
  },
  {
   "cell_type": "code",
   "execution_count": 51,
   "metadata": {},
   "outputs": [
    {
     "name": "stdout",
     "output_type": "stream",
     "text": [
      "I eat 3 apples\n"
     ]
    }
   ],
   "source": [
    "# 숫자 바로 대입\n",
    "\n",
    "a = 3 \n",
    "print(\"I eat %d apples\" % a)\n",
    "\n"
   ]
  },
  {
   "cell_type": "code",
   "execution_count": 53,
   "metadata": {},
   "outputs": [
    {
     "name": "stdout",
     "output_type": "stream",
     "text": [
      "I eat python apples\n"
     ]
    }
   ],
   "source": [
    "b = \"python\" \n",
    "print(\"I eat %s apples\" % b)"
   ]
  },
  {
   "cell_type": "code",
   "execution_count": 54,
   "metadata": {},
   "outputs": [
    {
     "name": "stdout",
     "output_type": "stream",
     "text": [
      "I eat five apples\n"
     ]
    }
   ],
   "source": [
    "# 문자열 바로 대입\n",
    "print(\"I eat %s apples\" % \"five\")"
   ]
  },
  {
   "cell_type": "code",
   "execution_count": 55,
   "metadata": {},
   "outputs": [
    {
     "name": "stdout",
     "output_type": "stream",
     "text": [
      "I eat 3 apples\n"
     ]
    }
   ],
   "source": [
    "# 숫자 값을 나타내는 변수로 대입\n",
    "\n",
    "number = 3\n",
    "print(\"I eat %d apples\" % number)"
   ]
  },
  {
   "cell_type": "code",
   "execution_count": 56,
   "metadata": {},
   "outputs": [
    {
     "name": "stdout",
     "output_type": "stream",
     "text": [
      "I ate 10 apples, so I was sick for three days\n"
     ]
    }
   ],
   "source": [
    "# 2개의 이상의 값 넣기 \n",
    "number = 10 \n",
    "day = \"three\" \n",
    "\n",
    "print(\"I ate %d apples, so I was sick for %s days\" % (number, day))"
   ]
  },
  {
   "cell_type": "code",
   "execution_count": 62,
   "metadata": {},
   "outputs": [
    {
     "name": "stdout",
     "output_type": "stream",
     "text": [
      "Error is 98 %\n",
      "Error is 98 %\n"
     ]
    }
   ],
   "source": [
    "a = 98\n",
    "print(\"Error is %d %%\" % a)\n",
    "print(f\"Error is {a} %\")"
   ]
  },
  {
   "cell_type": "markdown",
   "metadata": {},
   "source": [
    "* a = \"20240807Rainy\" \n",
    "* 출력값을 \"2024년 8월 7일 오늘의 날씨는 Rainy 입니다.\""
   ]
  },
  {
   "cell_type": "code",
   "execution_count": 5,
   "metadata": {},
   "outputs": [
    {
     "name": "stdout",
     "output_type": "stream",
     "text": [
      "2024년 8월 7일 오늘의 날씨는 Rainy 입니다\n",
      "2024년 8월 7일 오늘의 날씨는 Rainy 입니다\n"
     ]
    }
   ],
   "source": [
    "a = \"20240807Rainy\" \n",
    "\n",
    "year = a[0:4]\n",
    "month = a[5:6]\n",
    "day = a[7:8]\n",
    "weather = a[8:]\n",
    "\n",
    "print(f\"{year}년 {month}월 {day}일 오늘의 날씨는 {weather} 입니다\")\n",
    "print(f\"{a[0:4]}년 {a[5:6]}월 {a[7:8]}일 오늘의 날씨는 {a[8:]} 입니다\")\n"
   ]
  },
  {
   "cell_type": "markdown",
   "metadata": {},
   "source": [
    "### 포맷 코드와 숫자 함께 사용하기"
   ]
  },
  {
   "cell_type": "code",
   "execution_count": 10,
   "metadata": {},
   "outputs": [
    {
     "name": "stdout",
     "output_type": "stream",
     "text": [
      "안녕하세요 hello 저는 파이썬을 좋아해요 \n",
      "안녕하세요      hello 저는 파이썬을 좋아해요 \n",
      "안녕하세요 hello      저는 파이썬을 좋아해요 \n"
     ]
    }
   ],
   "source": [
    "# 정렬과 공백\n",
    "\n",
    "a = \"hello\"\n",
    "print(\"안녕하세요 %s 저는 파이썬을 좋아해요 \" % a)\n",
    "\n",
    "# 오른쪽 정렬\n",
    "print(\"안녕하세요 %10s 저는 파이썬을 좋아해요 \" % a)\n",
    "\n",
    "# 왼쪽 정렬\n",
    "print(\"안녕하세요 %-10s 저는 파이썬을 좋아해요 \" % a)\n",
    "\n"
   ]
  },
  {
   "cell_type": "code",
   "execution_count": 14,
   "metadata": {},
   "outputs": [
    {
     "name": "stdout",
     "output_type": "stream",
     "text": [
      "소수점으로 3.421332\n",
      "소수점으로 3.4213\n",
      "소수점으로 3.4213\n"
     ]
    }
   ],
   "source": [
    "# 소수점 표현하기 \n",
    "\n",
    "a = 3.42133224\n",
    "\n",
    "print(\"소수점으로 %f\" % a)\n",
    "print(\"소수점으로 %0.4f\" % a)\n",
    "print(\"소수점으로 %.4f\" % a)"
   ]
  },
  {
   "cell_type": "markdown",
   "metadata": {},
   "source": [
    "### format 함수를 사용한 포매팅"
   ]
  },
  {
   "cell_type": "code",
   "execution_count": 22,
   "metadata": {},
   "outputs": [
    {
     "name": "stdout",
     "output_type": "stream",
     "text": [
      "I eat 3 apples\n",
      "I eat five apples\n",
      "I eat 3 apples\n"
     ]
    }
   ],
   "source": [
    "# 숫자 바로 대입하기 \n",
    "\n",
    "print(\"I eat {0} apples\".format(3))\n",
    "\n",
    "# 문자열 바로 대입\n",
    "print(\"I eat {0} apples\".format(\"five\"))\n",
    "\n",
    "# 숫자 값을 변수로 대입\n",
    "number = 3\n",
    "print(\"I eat {0} apples\".format(number))"
   ]
  },
  {
   "cell_type": "code",
   "execution_count": 27,
   "metadata": {},
   "outputs": [
    {
     "name": "stdout",
     "output_type": "stream",
     "text": [
      "I ate 10 apples. so I was sick three days\n",
      "I ate 10 apples. so I was sick 3 days\n",
      "I ate 10 apples. so I was sick 3 days\n"
     ]
    }
   ],
   "source": [
    "# 2개 이상의 값을 넣기 \n",
    "\n",
    "number = 10 \n",
    "day = \"three\"\n",
    "print(\"I ate {0} apples. so I was sick {1} days\".format(number, day))\n",
    "\n",
    "# 이름으로 넣기 \n",
    "print(\"I ate {number} apples. so I was sick {day} days\".format(number=10, day=3))\n",
    "\n",
    "# 인덱스, 이름 혼용사용\n",
    "print(\"I ate {0} apples. so I was sick {day} days\".format(number, day=3))\n",
    "\n"
   ]
  },
  {
   "cell_type": "code",
   "execution_count": 33,
   "metadata": {},
   "outputs": [
    {
     "name": "stdout",
     "output_type": "stream",
     "text": [
      "정렬 hi 입니다\n",
      "정렬 hi         입니다\n",
      "정렬         hi 입니다\n",
      "정렬     hi     입니다\n"
     ]
    }
   ],
   "source": [
    "# 왼쪽정렬\n",
    "print(\"정렬 {0} 입니다\".format(\"hi\"))\n",
    "print(\"정렬 {0:<10} 입니다\".format(\"hi\"))\n",
    "\n",
    "# 오른쪽정렬\n",
    "print(\"정렬 {0:>10} 입니다\".format(\"hi\"))\n",
    "\n",
    "# 중간정렬\n",
    "print(\"정렬 {0:^10} 입니다\".format(\"hi\"))"
   ]
  },
  {
   "cell_type": "code",
   "execution_count": 39,
   "metadata": {},
   "outputs": [
    {
     "name": "stdout",
     "output_type": "stream",
     "text": [
      "공백 hi\n",
      "공백 ====hi====\n",
      "공백 ****hi****\n",
      "공백 hi********\n",
      "공백 ********hi\n",
      "공백 !!!!!!!!hi\n"
     ]
    }
   ],
   "source": [
    "# 공백채우기 \n",
    "print(\"공백 {0}\".format(\"hi\"))\n",
    "print(\"공백 {0:=^10}\".format(\"hi\"))\n",
    "print(\"공백 {0:*^10}\".format(\"hi\"))\n",
    "print(\"공백 {0:*<10}\".format(\"hi\"))\n",
    "print(\"공백 {0:*>10}\".format(\"hi\"))\n",
    "print(\"공백 {0:!>10}\".format(\"hi\"))\n"
   ]
  },
  {
   "cell_type": "code",
   "execution_count": 49,
   "metadata": {},
   "outputs": [
    {
     "name": "stdout",
     "output_type": "stream",
     "text": [
      "소수점자리표현: 3.42134234\n",
      "소수점자리표현: 3.4213\n",
      "소수점자리표현: 3.4213\n",
      "소수점자리표현:     3.4213\n",
      "소수점자리표현:   3.4213  \n",
      "소수점자리표현: $$3.4213$$\n",
      "소수점자리표현: ❤❤3.4213❤❤\n",
      "문자표현: {and}\n",
      "문자표현: {}\n"
     ]
    }
   ],
   "source": [
    "# 소수점 표현하기 \n",
    "\n",
    "y = 3.42134234\n",
    "\n",
    "print(\"소수점자리표현: {0}\".format(y))\n",
    "print(\"소수점자리표현: {0:0.4f}\".format(y))\n",
    "print(\"소수점자리표현: {0:.4f}\".format(y))\n",
    "print(\"소수점자리표현: {0:10.4f}\".format(y))\n",
    "print(\"소수점자리표현: {0:^10.4f}\".format(y))\n",
    "print(\"소수점자리표현: {0:$^10.4f}\".format(y))\n",
    "print(\"소수점자리표현: {0:❤^10.4f}\".format(y))\n",
    "\n",
    "# {또는} 문자 표현\n",
    "print(\"문자표현: {{and}}\".format())\n",
    "print(\"문자표현: {{}}\".format())"
   ]
  },
  {
   "cell_type": "markdown",
   "metadata": {},
   "source": [
    "### f 문자열 포매팅 "
   ]
  },
  {
   "cell_type": "code",
   "execution_count": 51,
   "metadata": {},
   "outputs": [
    {
     "name": "stdout",
     "output_type": "stream",
     "text": [
      "나의 이름은 홍길동입니다. 나이는 30입니다.\n",
      "나의 이름은 홍길동입니다. 나이는 40입니다.\n"
     ]
    }
   ],
   "source": [
    "name = \"홍길동\"\n",
    "age = 30 \n",
    "\n",
    "print(f\"나의 이름은 {name}입니다. 나이는 {age}입니다.\")\n",
    "print(f\"나의 이름은 {name}입니다. 나이는 {age + 10}입니다.\")"
   ]
  },
  {
   "cell_type": "code",
   "execution_count": 52,
   "metadata": {},
   "outputs": [
    {
     "name": "stdout",
     "output_type": "stream",
     "text": [
      "나의 이름은 홍길동입니다. 나이는 30입니다.\n"
     ]
    }
   ],
   "source": [
    "d = {\"name\": \"홍길동\", \"age\": 30}\n",
    "print(f\"나의 이름은 {d[\"name\"]}입니다. 나이는 {d['age']}입니다.\")"
   ]
  },
  {
   "cell_type": "code",
   "execution_count": 60,
   "metadata": {},
   "outputs": [
    {
     "name": "stdout",
     "output_type": "stream",
     "text": [
      "f포매팅 정렬방법\n",
      "f포매팅 정렬방법 hi 입니다\n",
      "f포매팅 정렬방법 hi         입니다\n",
      "f포매팅 정렬방법         hi 입니다\n",
      "f포매팅 정렬방법     hi     입니다\n",
      "f포매팅 정렬방법 ----hi---- 입니다\n"
     ]
    }
   ],
   "source": [
    "a = \"hi\"\n",
    "\n",
    "print(\"f포매팅 정렬방법\")\n",
    "print(f\"f포매팅 정렬방법 {a} 입니다\")\n",
    "\n",
    "# 왼쪽정렬\n",
    "print(f\"f포매팅 정렬방법 {a:<10} 입니다\")\n",
    "\n",
    "# 오른쪽정렬\n",
    "print(f\"f포매팅 정렬방법 {a:>10} 입니다\")\n",
    "\n",
    "# 중앙정렬\n",
    "print(f\"f포매팅 정렬방법 {a:^10} 입니다\")\n",
    "\n",
    "# 공백 채우기\n",
    "print(f\"f포매팅 정렬방법 {a:-^10} 입니다\")"
   ]
  },
  {
   "cell_type": "code",
   "execution_count": 66,
   "metadata": {},
   "outputs": [
    {
     "name": "stdout",
     "output_type": "stream",
     "text": [
      "소수점표현방식: \n",
      "소수점표현방식: 3.42134234\n",
      "소수점표현방식: 3.4213\n",
      "소수점표현방식:     3.4213\n",
      "소수점표현방식:   3.4213  \n",
      "소수점표현방식: 3.4213----\n"
     ]
    }
   ],
   "source": [
    "y = 3.42134234\n",
    "\n",
    "print(\"소수점표현방식: \")\n",
    "print(f\"소수점표현방식: {y}\")\n",
    "print(f\"소수점표현방식: {y:0.4f}\")\n",
    "print(f\"소수점표현방식: {y:10.4f}\")\n",
    "print(f\"소수점표현방식: {y:^10.4f}\")\n",
    "print(f\"소수점표현방식: {y:-<10.4f}\")"
   ]
  },
  {
   "cell_type": "markdown",
   "metadata": {},
   "source": [
    "### 문자열 관련 함수들"
   ]
  },
  {
   "cell_type": "code",
   "execution_count": 75,
   "metadata": {},
   "outputs": [
    {
     "name": "stdout",
     "output_type": "stream",
     "text": [
      "count():  2\n",
      "find():  14\n",
      "찾지못했을때 반환하는 값:  -1\n",
      "index():  8\n"
     ]
    },
    {
     "ename": "ValueError",
     "evalue": "substring not found",
     "output_type": "error",
     "traceback": [
      "\u001b[1;31m---------------------------------------------------------------------------\u001b[0m",
      "\u001b[1;31mValueError\u001b[0m                                Traceback (most recent call last)",
      "Cell \u001b[1;32mIn[75], line 13\u001b[0m\n\u001b[0;32m     11\u001b[0m c \u001b[38;5;241m=\u001b[39m \u001b[38;5;124m\"\u001b[39m\u001b[38;5;124mLife is too short\u001b[39m\u001b[38;5;124m\"\u001b[39m \n\u001b[0;32m     12\u001b[0m \u001b[38;5;28mprint\u001b[39m(\u001b[38;5;124m\"\u001b[39m\u001b[38;5;124mindex(): \u001b[39m\u001b[38;5;124m\"\u001b[39m, c\u001b[38;5;241m.\u001b[39mindex(\u001b[38;5;124m\"\u001b[39m\u001b[38;5;124mt\u001b[39m\u001b[38;5;124m\"\u001b[39m))\n\u001b[1;32m---> 13\u001b[0m \u001b[38;5;28mprint\u001b[39m(\u001b[38;5;124m\"\u001b[39m\u001b[38;5;124m찾지못했을때 반환하는 값: \u001b[39m\u001b[38;5;124m\"\u001b[39m, \u001b[43mc\u001b[49m\u001b[38;5;241;43m.\u001b[39;49m\u001b[43mindex\u001b[49m\u001b[43m(\u001b[49m\u001b[38;5;124;43m\"\u001b[39;49m\u001b[38;5;124;43mk\u001b[39;49m\u001b[38;5;124;43m\"\u001b[39;49m\u001b[43m)\u001b[49m)\n",
      "\u001b[1;31mValueError\u001b[0m: substring not found"
     ]
    }
   ],
   "source": [
    "# 문자 개수 구하기\n",
    "a = \"hobby\" \n",
    "print(\"count(): \", a.count(\"b\"))\n",
    "\n",
    "# 위치 알려주기 find()\n",
    "b = \"Python is the best choice\"\n",
    "print(\"find(): \", b.find(\"b\"))\n",
    "print(\"찾지못했을때 반환하는 값: \", b.find(\"k\"))\n",
    "\n",
    "# 위치 알려주기 index()\n",
    "c = \"Life is too short\" \n",
    "print(\"index(): \", c.index(\"t\"))\n",
    "print(\"찾지못했을때 반환하는 값: \", c.index(\"k\"))\n",
    "\n"
   ]
  },
  {
   "cell_type": "code",
   "execution_count": 77,
   "metadata": {},
   "outputs": [
    {
     "data": {
      "text/plain": [
       "'a,b,c,d'"
      ]
     },
     "execution_count": 77,
     "metadata": {},
     "output_type": "execute_result"
    }
   ],
   "source": [
    "# 문자열 삽입 join()\n",
    "\n",
    "\",\".join(\"abcd\")"
   ]
  },
  {
   "cell_type": "code",
   "execution_count": 79,
   "metadata": {},
   "outputs": [
    {
     "name": "stdout",
     "output_type": "stream",
     "text": [
      "HI\n",
      "hello\n"
     ]
    }
   ],
   "source": [
    "# upper()\n",
    "a = \"hi\" \n",
    "print(a.upper())\n",
    "\n",
    "# lower() \n",
    "b = \"HELLO\" \n",
    "print(b.lower())\n"
   ]
  },
  {
   "cell_type": "code",
   "execution_count": 84,
   "metadata": {},
   "outputs": [
    {
     "name": "stdout",
     "output_type": "stream",
     "text": [
      "|     hi     |\n",
      "|hi     |\n",
      "|     hi|\n",
      "|hi|\n"
     ]
    }
   ],
   "source": [
    "a = \"     hi     \"\n",
    "print(f\"|{a}|\")\n",
    "\n",
    "# 왼쪽 공백지우기 lstrip()\n",
    "print(f\"|{a.lstrip()}|\")\n",
    "\n",
    "# 오른쪽 공백지우기 rstrip()\n",
    "print(f\"|{a.rstrip()}|\")\n",
    "\n",
    "# 양쪽 공백지우기 strip()\n",
    "print(f\"|{a.strip()}|\")\n"
   ]
  },
  {
   "cell_type": "code",
   "execution_count": 85,
   "metadata": {},
   "outputs": [
    {
     "name": "stdout",
     "output_type": "stream",
     "text": [
      "Your leg is too short\n"
     ]
    }
   ],
   "source": [
    "# 문자열 바꾸기 replace()\n",
    "\n",
    "a = \"Life is too short\" \n",
    "print(a.replace(\"Life\", \"Your leg\"))"
   ]
  },
  {
   "cell_type": "code",
   "execution_count": 92,
   "metadata": {},
   "outputs": [
    {
     "name": "stdout",
     "output_type": "stream",
     "text": [
      "['Life', 'is', 'too', 'short']\n",
      "<class 'list'>\n",
      "['a:b:c:d']\n",
      "['a', 'b', 'c', 'd']\n",
      "['사과,감자,수박,포도']\n",
      "['사과', '감자', '수박', '포도']\n"
     ]
    }
   ],
   "source": [
    "# 문자열 나누기 split() -> List[]\n",
    "\n",
    "a = \"Life is too short\" \n",
    "b = a.split()\n",
    "\n",
    "print(b)\n",
    "print(type(b))\n",
    "\n",
    "c = \"a:b:c:d\"\n",
    "print(c.split())\n",
    "print(c.split(\":\"))\n",
    "\n",
    "d = \"사과,감자,수박,포도\"\n",
    "print(d.split())\n",
    "print(d.split(\",\"))"
   ]
  },
  {
   "cell_type": "code",
   "execution_count": null,
   "metadata": {},
   "outputs": [],
   "source": []
  }
 ],
 "metadata": {
  "kernelspec": {
   "display_name": "Python 3",
   "language": "python",
   "name": "python3"
  },
  "language_info": {
   "codemirror_mode": {
    "name": "ipython",
    "version": 3
   },
   "file_extension": ".py",
   "mimetype": "text/x-python",
   "name": "python",
   "nbconvert_exporter": "python",
   "pygments_lexer": "ipython3",
   "version": "3.12.4"
  }
 },
 "nbformat": 4,
 "nbformat_minor": 2
}
