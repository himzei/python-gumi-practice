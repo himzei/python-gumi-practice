{
 "cells": [
  {
   "cell_type": "markdown",
   "metadata": {},
   "source": [
    "### while 문의 기본 구조\n",
    "* while 문은 반복문이다."
   ]
  },
  {
   "cell_type": "code",
   "execution_count": 2,
   "metadata": {},
   "outputs": [
    {
     "name": "stdout",
     "output_type": "stream",
     "text": [
      "나무를 10번 찍었습니다.\n",
      "나무가 넘어갑니다.\n"
     ]
    }
   ],
   "source": [
    "# while 조건문:\n",
    "#     수행할_문장1\n",
    "#     수행할_문장2\n",
    "#     수행할_문장3\n",
    "#     ...\n",
    "\n",
    "\n",
    "tree_hit = 9\n",
    "\n",
    "while tree_hit < 10:\n",
    "    # tree_hit += 1\n",
    "    tree_hit = tree_hit + 1\n",
    "\n",
    "    print(f\"나무를 {tree_hit}번 찍었습니다.\")\n",
    "\n",
    "    if tree_hit == 10: \n",
    "        print(\"나무가 넘어갑니다.\")\n",
    "\n"
   ]
  },
  {
   "cell_type": "code",
   "execution_count": 8,
   "metadata": {},
   "outputs": [
    {
     "name": "stdout",
     "output_type": "stream",
     "text": [
      " \n",
      "    1. Add\n",
      "    2. Del \n",
      "    3. List\n",
      "    4. Quit\n",
      "\n",
      " \n",
      "    1. Add\n",
      "    2. Del \n",
      "    3. List\n",
      "    4. Quit\n",
      "\n",
      " \n",
      "    1. Add\n",
      "    2. Del \n",
      "    3. List\n",
      "    4. Quit\n",
      "\n",
      "프로그램이 종료됩니다\n"
     ]
    }
   ],
   "source": [
    "# while 문 만들기 \n",
    "prompt = \"\"\" \n",
    "    1. Add\n",
    "    2. Del \n",
    "    3. List\n",
    "    4. Quit\n",
    "\"\"\"\n",
    "\n",
    "number = 0\n",
    "\n",
    "while number != 4:\n",
    "    print(prompt)\n",
    "    number = int(input(\"숫자를 입력하세요: \"))\n",
    "\n",
    "print(\"프로그램이 종료됩니다\")"
   ]
  },
  {
   "cell_type": "code",
   "execution_count": 10,
   "metadata": {},
   "outputs": [
    {
     "name": "stdout",
     "output_type": "stream",
     "text": [
      "돈을 받았으니 커피를 줍니다.\n",
      "남은 커피의 양은 2개 입니다. \n",
      "돈을 받았으니 커피를 줍니다.\n",
      "남은 커피의 양은 1개 입니다. \n",
      "돈을 받았으니 커피를 줍니다.\n",
      "남은 커피의 양은 0개 입니다. \n",
      "커피가 다 떨어졌습니다. 판매를 중지합니다. \n"
     ]
    }
   ],
   "source": [
    "# while 문 강제로 빠져나가기\n",
    "\n",
    "coffee = 3\n",
    "money = 300\n",
    "\n",
    "while money: \n",
    "    print(\"돈을 받았으니 커피를 줍니다.\")\n",
    "    coffee = coffee - 1 \n",
    "    print(f\"남은 커피의 양은 {coffee}개 입니다. \")\n",
    "\n",
    "    if coffee == 0: \n",
    "        print(\"커피가 다 떨어졌습니다. 판매를 중지합니다. \")\n",
    "        break\n",
    "\n"
   ]
  },
  {
   "cell_type": "code",
   "execution_count": null,
   "metadata": {},
   "outputs": [],
   "source": []
  }
 ],
 "metadata": {
  "kernelspec": {
   "display_name": "Python 3",
   "language": "python",
   "name": "python3"
  },
  "language_info": {
   "codemirror_mode": {
    "name": "ipython",
    "version": 3
   },
   "file_extension": ".py",
   "mimetype": "text/x-python",
   "name": "python",
   "nbconvert_exporter": "python",
   "pygments_lexer": "ipython3",
   "version": "3.12.4"
  }
 },
 "nbformat": 4,
 "nbformat_minor": 2
}
