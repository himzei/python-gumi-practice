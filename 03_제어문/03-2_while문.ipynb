{
 "cells": [
  {
   "cell_type": "markdown",
   "metadata": {},
   "source": [
    "### while 문의 기본 구조\n",
    "* while 문은 반복문이다."
   ]
  },
  {
   "cell_type": "code",
   "execution_count": 2,
   "metadata": {},
   "outputs": [
    {
     "name": "stdout",
     "output_type": "stream",
     "text": [
      "나무를 10번 찍었습니다.\n",
      "나무가 넘어갑니다.\n"
     ]
    }
   ],
   "source": [
    "# while 조건문:\n",
    "#     수행할_문장1\n",
    "#     수행할_문장2\n",
    "#     수행할_문장3\n",
    "#     ...\n",
    "\n",
    "\n",
    "tree_hit = 9\n",
    "\n",
    "while tree_hit < 10:\n",
    "    # tree_hit += 1\n",
    "    tree_hit = tree_hit + 1\n",
    "\n",
    "    print(f\"나무를 {tree_hit}번 찍었습니다.\")\n",
    "\n",
    "    if tree_hit == 10: \n",
    "        print(\"나무가 넘어갑니다.\")\n",
    "\n"
   ]
  },
  {
   "cell_type": "code",
   "execution_count": 8,
   "metadata": {},
   "outputs": [
    {
     "name": "stdout",
     "output_type": "stream",
     "text": [
      " \n",
      "    1. Add\n",
      "    2. Del \n",
      "    3. List\n",
      "    4. Quit\n",
      "\n",
      " \n",
      "    1. Add\n",
      "    2. Del \n",
      "    3. List\n",
      "    4. Quit\n",
      "\n",
      " \n",
      "    1. Add\n",
      "    2. Del \n",
      "    3. List\n",
      "    4. Quit\n",
      "\n",
      "프로그램이 종료됩니다\n"
     ]
    }
   ],
   "source": [
    "# while 문 만들기 \n",
    "prompt = \"\"\" \n",
    "    1. Add\n",
    "    2. Del \n",
    "    3. List\n",
    "    4. Quit\n",
    "\"\"\"\n",
    "\n",
    "number = 0\n",
    "\n",
    "while number != 4:\n",
    "    print(prompt)\n",
    "    number = int(input(\"숫자를 입력하세요: \"))\n",
    "\n",
    "print(\"프로그램이 종료됩니다\")"
   ]
  },
  {
   "cell_type": "code",
   "execution_count": 10,
   "metadata": {},
   "outputs": [
    {
     "name": "stdout",
     "output_type": "stream",
     "text": [
      "돈을 받았으니 커피를 줍니다.\n",
      "남은 커피의 양은 2개 입니다. \n",
      "돈을 받았으니 커피를 줍니다.\n",
      "남은 커피의 양은 1개 입니다. \n",
      "돈을 받았으니 커피를 줍니다.\n",
      "남은 커피의 양은 0개 입니다. \n",
      "커피가 다 떨어졌습니다. 판매를 중지합니다. \n"
     ]
    }
   ],
   "source": [
    "# while 문 강제로 빠져나가기\n",
    "\n",
    "coffee = 3\n",
    "money = 300\n",
    "\n",
    "while money: \n",
    "    print(\"돈을 받았으니 커피를 줍니다.\")\n",
    "    coffee = coffee - 1 \n",
    "    print(f\"남은 커피의 양은 {coffee}개 입니다. \")\n",
    "\n",
    "    if coffee == 0: \n",
    "        print(\"커피가 다 떨어졌습니다. 판매를 중지합니다. \")\n",
    "        break\n",
    "\n"
   ]
  },
  {
   "cell_type": "code",
   "execution_count": 1,
   "metadata": {},
   "outputs": [
    {
     "name": "stdout",
     "output_type": "stream",
     "text": [
      "거스름돈 200를 주고 커피를 줍니다.\n",
      "거스름돈 2200를 주고 커피를 줍니다.\n"
     ]
    },
    {
     "ename": "ValueError",
     "evalue": "invalid literal for int() with base 10: ''",
     "output_type": "error",
     "traceback": [
      "\u001b[1;31m---------------------------------------------------------------------------\u001b[0m",
      "\u001b[1;31mValueError\u001b[0m                                Traceback (most recent call last)",
      "Cell \u001b[1;32mIn[1], line 4\u001b[0m\n\u001b[0;32m      1\u001b[0m coffee \u001b[38;5;241m=\u001b[39m \u001b[38;5;241m10\u001b[39m \n\u001b[0;32m      3\u001b[0m \u001b[38;5;28;01mwhile\u001b[39;00m \u001b[38;5;28;01mTrue\u001b[39;00m: \n\u001b[1;32m----> 4\u001b[0m     money \u001b[38;5;241m=\u001b[39m \u001b[38;5;28;43mint\u001b[39;49m\u001b[43m(\u001b[49m\u001b[38;5;28;43minput\u001b[39;49m\u001b[43m(\u001b[49m\u001b[38;5;124;43m\"\u001b[39;49m\u001b[38;5;124;43m돈을 넣어 주세요: \u001b[39;49m\u001b[38;5;124;43m\"\u001b[39;49m\u001b[43m)\u001b[49m\u001b[43m)\u001b[49m\n\u001b[0;32m      6\u001b[0m     \u001b[38;5;28;01mif\u001b[39;00m money \u001b[38;5;241m==\u001b[39m \u001b[38;5;241m300\u001b[39m: \n\u001b[0;32m      7\u001b[0m         \u001b[38;5;28mprint\u001b[39m(\u001b[38;5;124m\"\u001b[39m\u001b[38;5;124m커피를 줍니다.\u001b[39m\u001b[38;5;124m\"\u001b[39m)\n",
      "\u001b[1;31mValueError\u001b[0m: invalid literal for int() with base 10: ''"
     ]
    }
   ],
   "source": [
    "coffee = 10 \n",
    "\n",
    "while True: \n",
    "    money = int(input(\"돈을 넣어 주세요: \"))\n",
    "    \n",
    "    if money == 300: \n",
    "        print(\"커피를 줍니다.\")\n",
    "        coffee = coffee - 1\n",
    "    elif money > 300: \n",
    "        print(f\"거스름돈 {money - 300}를 주고 커피를 줍니다.\")\n",
    "        coffee = coffee - 1 \n",
    "    else: \n",
    "        print(\"돈을 다시 돌려주고 커피를 주지 않습니다.\")\n",
    "        print(f\"남은 커피의 양은 {coffee}개 입니다.\")\n",
    "    \n",
    "    if coffee == 0: \n",
    "        print(\"커피가 다 떨어 졌습니다. 판매를 중지합니다.\")\n",
    "        break"
   ]
  },
  {
   "cell_type": "code",
   "execution_count": 2,
   "metadata": {},
   "outputs": [
    {
     "name": "stdout",
     "output_type": "stream",
     "text": [
      "1\n",
      "3\n",
      "5\n",
      "7\n",
      "9\n"
     ]
    }
   ],
   "source": [
    "# while문의 맨 처음으로 돌아가기 \n",
    "\n",
    "a = 0 \n",
    "while a < 10:\n",
    "    a = a + 1\n",
    "    if a % 2 == 0: \n",
    "        continue\n",
    "    print(a)\n"
   ]
  },
  {
   "cell_type": "code",
   "execution_count": null,
   "metadata": {},
   "outputs": [],
   "source": [
    "# 무한루프\n",
    "while True: \n",
    "    print(\"ctrl+c를 눌러야 while문을 빠져나갈 수 있습니다.\")\n",
    "\n",
    "print(\"실행되지 않음\")"
   ]
  },
  {
   "cell_type": "code",
   "execution_count": null,
   "metadata": {},
   "outputs": [],
   "source": []
  }
 ],
 "metadata": {
  "kernelspec": {
   "display_name": "Python 3",
   "language": "python",
   "name": "python3"
  },
  "language_info": {
   "codemirror_mode": {
    "name": "ipython",
    "version": 3
   },
   "file_extension": ".py",
   "mimetype": "text/x-python",
   "name": "python",
   "nbconvert_exporter": "python",
   "pygments_lexer": "ipython3",
   "version": "3.12.4"
  }
 },
 "nbformat": 4,
 "nbformat_minor": 2
}
