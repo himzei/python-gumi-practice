{
 "cells": [
  {
   "cell_type": "code",
   "execution_count": 2,
   "metadata": {},
   "outputs": [
    {
     "name": "stdout",
     "output_type": "stream",
     "text": [
      "국어, 영어, 수학의 평균점수는 70.00입니다.\n"
     ]
    }
   ],
   "source": [
    "# 1. 평균점수구하기 \n",
    "ko = 80\n",
    "en = 75 \n",
    "ma = 55 \n",
    "\n",
    "print(f\"국어, 영어, 수학의 평균점수는 {(ko + en + ma) / 3:.2f}입니다.\")"
   ]
  },
  {
   "cell_type": "code",
   "execution_count": 5,
   "metadata": {},
   "outputs": [
    {
     "name": "stdout",
     "output_type": "stream",
     "text": [
      "0\n",
      "짝수\n"
     ]
    }
   ],
   "source": [
    "# 2. 홀수, 짝수 판별하기 \n",
    "num = 14 \n",
    "print(num % 2)\n",
    "\n",
    "if (num % 2):\n",
    "    print(\"홀수\")\n",
    "else: \n",
    "    print(\"짝수\")"
   ]
  },
  {
   "cell_type": "code",
   "execution_count": 6,
   "metadata": {},
   "outputs": [
    {
     "name": "stdout",
     "output_type": "stream",
     "text": [
      "881120\n",
      "1068234\n"
     ]
    }
   ],
   "source": [
    "# 3. 주민등록번호 나누기\n",
    "pin = \"881120-1068234\"\n",
    "yyyymmdd = pin[0:6]\n",
    "num = pin[7:]\n",
    "print(yyyymmdd)\n",
    "print(num)"
   ]
  },
  {
   "cell_type": "code",
   "execution_count": 7,
   "metadata": {},
   "outputs": [
    {
     "name": "stdout",
     "output_type": "stream",
     "text": [
      "1\n"
     ]
    }
   ],
   "source": [
    "# 4. 주민등록번호 인덱싱\n",
    "pin = \"881120-1068234\"\n",
    "print(pin[7])\n"
   ]
  },
  {
   "cell_type": "code",
   "execution_count": 8,
   "metadata": {},
   "outputs": [
    {
     "name": "stdout",
     "output_type": "stream",
     "text": [
      "a#b#c#d\n"
     ]
    }
   ],
   "source": [
    "# 5. 문자열 바꾸기 \n",
    "a = \"a:b:c:d\"\n",
    "b = a.replace(\":\", \"#\")\n",
    "print(b)"
   ]
  },
  {
   "cell_type": "code",
   "execution_count": 12,
   "metadata": {},
   "outputs": [
    {
     "name": "stdout",
     "output_type": "stream",
     "text": [
      "[5, 4, 3, 2, 1]\n"
     ]
    }
   ],
   "source": [
    "# 6. 리스트 역순 정렬하기 \n",
    "a = [1, 3, 5, 4, 2]\n",
    "a.sort()\n",
    "# a.sort(reverse=True)\n",
    "a.reverse()\n",
    "print(a)"
   ]
  },
  {
   "cell_type": "code",
   "execution_count": 21,
   "metadata": {},
   "outputs": [
    {
     "name": "stdout",
     "output_type": "stream",
     "text": [
      "Life is too short\n",
      "h,e,l,l,o\n"
     ]
    }
   ],
   "source": [
    "# 7. 리스트를 문자열로 만들기\n",
    "a = [\"Life\", \"is\", \"too\", \"short\"]\n",
    "result = \" \".join(a)\n",
    "print(result)\n",
    "\n",
    "b = \"hello\"\n",
    "result2 = \",\".join(b)\n",
    "print(result2)"
   ]
  },
  {
   "cell_type": "code",
   "execution_count": 24,
   "metadata": {},
   "outputs": [
    {
     "name": "stdout",
     "output_type": "stream",
     "text": [
      "더하기 전:  2558244978816\n",
      "더하기 후:  2558245304768\n",
      "(1, 2, 3, 4)\n",
      "[1, 2, 3]\n",
      "2558245006592\n",
      "[1, 2, 3, 4]\n",
      "2558245006592\n"
     ]
    }
   ],
   "source": [
    "# 8. 튜플더하기\n",
    "a = (1, 2, 3) \n",
    "print(\"더하기 전: \", id(a))\n",
    "a = a + (4,)\n",
    "print(\"더하기 후: \", id(a))\n",
    "print(a)\n",
    "\n",
    "\n",
    "# 참고(리스트)\n",
    "b = [1, 2, 3]\n",
    "print(b)\n",
    "print(id(b))\n",
    "\n",
    "b.append(4)\n",
    "print(b)\n",
    "print(id(b))"
   ]
  },
  {
   "cell_type": "code",
   "execution_count": 29,
   "metadata": {},
   "outputs": [
    {
     "name": "stdout",
     "output_type": "stream",
     "text": [
      "처음:  {}\n",
      "1:  {'name': 'python'}\n",
      "2:  {'name': 'python', ('a',): 'python'}\n",
      "4:  {'name': 'python', ('a',): 'python', 250: 'python'}\n"
     ]
    }
   ],
   "source": [
    "# 9. 딕셔너리의 키\n",
    "# a = {}\n",
    "a = dict()\n",
    "print(\"처음: \", a)\n",
    "\n",
    "a[\"name\"] = \"python\"\n",
    "print(\"1: \", a)\n",
    "\n",
    "a[(\"a\",)] = \"python\"\n",
    "print(\"2: \", a)\n",
    "\n",
    "# a[[1]] = \"python\"\n",
    "# print(\"3: \", a)\n",
    "\n",
    "a[250] = \"python\"\n",
    "print(\"4: \", a)\n",
    "\n"
   ]
  },
  {
   "cell_type": "code",
   "execution_count": 32,
   "metadata": {},
   "outputs": [
    {
     "name": "stdout",
     "output_type": "stream",
     "text": [
      "{'A': 90, 'C': 70}\n",
      "80\n"
     ]
    }
   ],
   "source": [
    "# 10. 딕셔너리 값 추출하기\n",
    "a = {\"A\": 90, \"B\": 80, \"C\": 70}\n",
    "result = a.pop(\"B\")\n",
    "print(a)\n",
    "print(result)"
   ]
  },
  {
   "cell_type": "code",
   "execution_count": 35,
   "metadata": {},
   "outputs": [
    {
     "name": "stdout",
     "output_type": "stream",
     "text": [
      "[1, 2, 3, 4, 5]\n"
     ]
    }
   ],
   "source": [
    "# 11. 리스트에서 중복 제거하기 \n",
    "a = [1, 1, 1, 2, 2, 3, 3, 3, 4, 4, 5]\n",
    "aSet = set(a)\n",
    "b = list(aSet)\n",
    "print(b)"
   ]
  },
  {
   "cell_type": "code",
   "execution_count": 36,
   "metadata": {},
   "outputs": [
    {
     "name": "stdout",
     "output_type": "stream",
     "text": [
      "[1, 4, 3]\n"
     ]
    }
   ],
   "source": [
    "# 12. 파이썬 변수 \n",
    "a = b = [1, 2, 3]\n",
    "a[1] = 4 \n",
    "print(b)"
   ]
  },
  {
   "cell_type": "code",
   "execution_count": null,
   "metadata": {},
   "outputs": [],
   "source": []
  }
 ],
 "metadata": {
  "kernelspec": {
   "display_name": "Python 3",
   "language": "python",
   "name": "python3"
  },
  "language_info": {
   "codemirror_mode": {
    "name": "ipython",
    "version": 3
   },
   "file_extension": ".py",
   "mimetype": "text/x-python",
   "name": "python",
   "nbconvert_exporter": "python",
   "pygments_lexer": "ipython3",
   "version": "3.12.4"
  }
 },
 "nbformat": 4,
 "nbformat_minor": 2
}
